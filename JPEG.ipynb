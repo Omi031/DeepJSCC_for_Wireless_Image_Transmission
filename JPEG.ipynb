{
 "cells": [
  {
   "cell_type": "code",
   "execution_count": 2,
   "metadata": {},
   "outputs": [],
   "source": [
    "import numpy as np\n",
    "import cv2\n",
    "import tensorflow as tf\n",
    "from tensorflow.keras import datasets, layers, models\n",
    "from PIL import Image\n",
    "import Metrics\n",
    "import matplotlib.pyplot as plt"
   ]
  },
  {
   "cell_type": "code",
   "execution_count": 85,
   "metadata": {},
   "outputs": [],
   "source": [
    "def encode_img_jpeg(img,x):\n",
    "  img = tf.convert_to_tensor(img, dtype=tf.uint8)\n",
    "  print(img)\n",
    "  img = tf.io.encode_jpeg(img, format='rgb')\n",
    "  img = tf.image.resize(img, [x, x])\n",
    "  return img\n"
   ]
  },
  {
   "cell_type": "code",
   "execution_count": 4,
   "metadata": {},
   "outputs": [
    {
     "name": "stdout",
     "output_type": "stream",
     "text": [
      "[[[158 112  49]\n",
      "  [159 111  47]\n",
      "  [165 116  51]\n",
      "  ...\n",
      "  [137  95  36]\n",
      "  [126  91  36]\n",
      "  [116  85  33]]\n",
      "\n",
      " [[152 112  51]\n",
      "  [151 110  40]\n",
      "  [159 114  45]\n",
      "  ...\n",
      "  [136  95  31]\n",
      "  [125  91  32]\n",
      "  [119  88  34]]\n",
      "\n",
      " [[151 110  47]\n",
      "  [151 109  33]\n",
      "  [158 111  36]\n",
      "  ...\n",
      "  [139  98  34]\n",
      "  [130  95  34]\n",
      "  [120  89  33]]\n",
      "\n",
      " ...\n",
      "\n",
      " [[ 68 124 177]\n",
      "  [ 42 100 148]\n",
      "  [ 31  88 137]\n",
      "  ...\n",
      "  [ 38  97 146]\n",
      "  [ 13  64 108]\n",
      "  [ 40  85 127]]\n",
      "\n",
      " [[ 61 116 168]\n",
      "  [ 49 102 148]\n",
      "  [ 35  85 132]\n",
      "  ...\n",
      "  [ 26  82 130]\n",
      "  [ 29  82 126]\n",
      "  [ 20  64 107]]\n",
      "\n",
      " [[ 54 107 160]\n",
      "  [ 56 105 149]\n",
      "  [ 45  89 132]\n",
      "  ...\n",
      "  [ 24  77 124]\n",
      "  [ 34  84 129]\n",
      "  [ 21  67 110]]]\n"
     ]
    }
   ],
   "source": [
    "(_, _), (test_images, _) = datasets.cifar10.load_data()\n",
    "test_images = test_images[:10000]\n",
    "# test_images = test_images.astype('float32') / 255.0\n",
    "img_size = test_images.shape[1:]\n",
    "print(test_images[0])"
   ]
  },
  {
   "cell_type": "code",
   "execution_count": 5,
   "metadata": {},
   "outputs": [],
   "source": [
    "SNR = 20\n",
    "x = 16\n",
    "k = x**2*3\n",
    "n = np.prod(img_size)\n",
    "k_n = k/n\n",
    "\n",
    "decode_img = []"
   ]
  },
  {
   "cell_type": "code",
   "execution_count": 91,
   "metadata": {},
   "outputs": [],
   "source": [
    "img_pil = Image.fromarray(test_images[0].astype('uint8'))\n",
    "\n",
    "img_pil.save('j.jpeg', format='JPEG', quality=0)"
   ]
  },
  {
   "cell_type": "code",
   "execution_count": 86,
   "metadata": {},
   "outputs": [
    {
     "name": "stdout",
     "output_type": "stream",
     "text": [
      "tf.Tensor(\n",
      "[[[158 112  49]\n",
      "  [159 111  47]\n",
      "  [165 116  51]\n",
      "  ...\n",
      "  [137  95  36]\n",
      "  [126  91  36]\n",
      "  [116  85  33]]\n",
      "\n",
      " [[152 112  51]\n",
      "  [151 110  40]\n",
      "  [159 114  45]\n",
      "  ...\n",
      "  [136  95  31]\n",
      "  [125  91  32]\n",
      "  [119  88  34]]\n",
      "\n",
      " [[151 110  47]\n",
      "  [151 109  33]\n",
      "  [158 111  36]\n",
      "  ...\n",
      "  [139  98  34]\n",
      "  [130  95  34]\n",
      "  [120  89  33]]\n",
      "\n",
      " ...\n",
      "\n",
      " [[ 68 124 177]\n",
      "  [ 42 100 148]\n",
      "  [ 31  88 137]\n",
      "  ...\n",
      "  [ 38  97 146]\n",
      "  [ 13  64 108]\n",
      "  [ 40  85 127]]\n",
      "\n",
      " [[ 61 116 168]\n",
      "  [ 49 102 148]\n",
      "  [ 35  85 132]\n",
      "  ...\n",
      "  [ 26  82 130]\n",
      "  [ 29  82 126]\n",
      "  [ 20  64 107]]\n",
      "\n",
      " [[ 54 107 160]\n",
      "  [ 56 105 149]\n",
      "  [ 45  89 132]\n",
      "  ...\n",
      "  [ 24  77 124]\n",
      "  [ 34  84 129]\n",
      "  [ 21  67 110]]], shape=(32, 32, 3), dtype=uint8)\n"
     ]
    },
    {
     "ename": "ValueError",
     "evalue": "'images' must have either 3 or 4 dimensions.",
     "output_type": "error",
     "traceback": [
      "\u001b[1;31m---------------------------------------------------------------------------\u001b[0m",
      "\u001b[1;31mValueError\u001b[0m                                Traceback (most recent call last)",
      "Cell \u001b[1;32mIn[86], line 1\u001b[0m\n\u001b[1;32m----> 1\u001b[0m encode_img \u001b[38;5;241m=\u001b[39m \u001b[43mencode_img_jpeg\u001b[49m\u001b[43m(\u001b[49m\u001b[43mtest_images\u001b[49m\u001b[43m[\u001b[49m\u001b[38;5;241;43m0\u001b[39;49m\u001b[43m]\u001b[49m\u001b[43m,\u001b[49m\u001b[43m \u001b[49m\u001b[43mx\u001b[49m\u001b[43m)\u001b[49m\n\u001b[0;32m      3\u001b[0m \u001b[38;5;28mprint\u001b[39m(encode_img\u001b[38;5;241m.\u001b[39mnumpy())\n",
      "Cell \u001b[1;32mIn[85], line 5\u001b[0m, in \u001b[0;36mencode_img_jpeg\u001b[1;34m(img, x)\u001b[0m\n\u001b[0;32m      3\u001b[0m \u001b[38;5;28mprint\u001b[39m(img)\n\u001b[0;32m      4\u001b[0m img \u001b[38;5;241m=\u001b[39m tf\u001b[38;5;241m.\u001b[39mio\u001b[38;5;241m.\u001b[39mencode_jpeg(img, \u001b[38;5;28mformat\u001b[39m\u001b[38;5;241m=\u001b[39m\u001b[38;5;124m'\u001b[39m\u001b[38;5;124mrgb\u001b[39m\u001b[38;5;124m'\u001b[39m)\n\u001b[1;32m----> 5\u001b[0m img \u001b[38;5;241m=\u001b[39m \u001b[43mtf\u001b[49m\u001b[38;5;241;43m.\u001b[39;49m\u001b[43mimage\u001b[49m\u001b[38;5;241;43m.\u001b[39;49m\u001b[43mresize\u001b[49m\u001b[43m(\u001b[49m\u001b[43mimg\u001b[49m\u001b[43m,\u001b[49m\u001b[43m \u001b[49m\u001b[43m[\u001b[49m\u001b[43mx\u001b[49m\u001b[43m,\u001b[49m\u001b[43m \u001b[49m\u001b[43mx\u001b[49m\u001b[43m]\u001b[49m\u001b[43m)\u001b[49m\n\u001b[0;32m      6\u001b[0m \u001b[38;5;28;01mreturn\u001b[39;00m img\n",
      "File \u001b[1;32mc:\\Users\\naoki\\PythonVenv\\StudyVenv\\Lib\\site-packages\\tensorflow\\python\\util\\traceback_utils.py:153\u001b[0m, in \u001b[0;36mfilter_traceback.<locals>.error_handler\u001b[1;34m(*args, **kwargs)\u001b[0m\n\u001b[0;32m    151\u001b[0m \u001b[38;5;28;01mexcept\u001b[39;00m \u001b[38;5;167;01mException\u001b[39;00m \u001b[38;5;28;01mas\u001b[39;00m e:\n\u001b[0;32m    152\u001b[0m   filtered_tb \u001b[38;5;241m=\u001b[39m _process_traceback_frames(e\u001b[38;5;241m.\u001b[39m__traceback__)\n\u001b[1;32m--> 153\u001b[0m   \u001b[38;5;28;01mraise\u001b[39;00m e\u001b[38;5;241m.\u001b[39mwith_traceback(filtered_tb) \u001b[38;5;28;01mfrom\u001b[39;00m \u001b[38;5;28;01mNone\u001b[39;00m\n\u001b[0;32m    154\u001b[0m \u001b[38;5;28;01mfinally\u001b[39;00m:\n\u001b[0;32m    155\u001b[0m   \u001b[38;5;28;01mdel\u001b[39;00m filtered_tb\n",
      "File \u001b[1;32mc:\\Users\\naoki\\PythonVenv\\StudyVenv\\Lib\\site-packages\\tensorflow\\python\\ops\\image_ops_impl.py:1468\u001b[0m, in \u001b[0;36m_resize_images_common\u001b[1;34m(images, resizer_fn, size, preserve_aspect_ratio, name, skip_resize_if_same)\u001b[0m\n\u001b[0;32m   1466\u001b[0m   images \u001b[38;5;241m=\u001b[39m array_ops\u001b[38;5;241m.\u001b[39mexpand_dims(images, \u001b[38;5;241m0\u001b[39m)\n\u001b[0;32m   1467\u001b[0m \u001b[38;5;28;01melif\u001b[39;00m images\u001b[38;5;241m.\u001b[39mget_shape()\u001b[38;5;241m.\u001b[39mndims \u001b[38;5;241m!=\u001b[39m \u001b[38;5;241m4\u001b[39m:\n\u001b[1;32m-> 1468\u001b[0m   \u001b[38;5;28;01mraise\u001b[39;00m \u001b[38;5;167;01mValueError\u001b[39;00m(\u001b[38;5;124m'\u001b[39m\u001b[38;5;130;01m\\'\u001b[39;00m\u001b[38;5;124mimages\u001b[39m\u001b[38;5;130;01m\\'\u001b[39;00m\u001b[38;5;124m must have either 3 or 4 dimensions.\u001b[39m\u001b[38;5;124m'\u001b[39m)\n\u001b[0;32m   1470\u001b[0m _, height, width, _ \u001b[38;5;241m=\u001b[39m images\u001b[38;5;241m.\u001b[39mget_shape()\u001b[38;5;241m.\u001b[39mas_list()\n\u001b[0;32m   1472\u001b[0m \u001b[38;5;28;01mtry\u001b[39;00m:\n",
      "\u001b[1;31mValueError\u001b[0m: 'images' must have either 3 or 4 dimensions."
     ]
    }
   ],
   "source": [
    "encode_img = encode_img_jpeg(test_images[0], x)\n",
    "\n",
    "print(encode_img.numpy())"
   ]
  },
  {
   "cell_type": "code",
   "execution_count": 55,
   "metadata": {},
   "outputs": [
    {
     "ename": "ValueError",
     "evalue": "Tensor conversion requested dtype string for Tensor with dtype uint8: <tf.Tensor: shape=(32, 32, 3), dtype=uint8, numpy=\narray([[[158, 112,  49],\n        [159, 111,  47],\n        [165, 116,  51],\n        ...,\n        [137,  95,  36],\n        [126,  91,  36],\n        [116,  85,  33]],\n\n       [[152, 112,  51],\n        [151, 110,  40],\n        [159, 114,  45],\n        ...,\n        [136,  95,  31],\n        [125,  91,  32],\n        [119,  88,  34]],\n\n       [[151, 110,  47],\n        [151, 109,  33],\n        [158, 111,  36],\n        ...,\n        [139,  98,  34],\n        [130,  95,  34],\n        [120,  89,  33]],\n\n       ...,\n\n       [[ 68, 124, 177],\n        [ 42, 100, 148],\n        [ 31,  88, 137],\n        ...,\n        [ 38,  97, 146],\n        [ 13,  64, 108],\n        [ 40,  85, 127]],\n\n       [[ 61, 116, 168],\n        [ 49, 102, 148],\n        [ 35,  85, 132],\n        ...,\n        [ 26,  82, 130],\n        [ 29,  82, 126],\n        [ 20,  64, 107]],\n\n       [[ 54, 107, 160],\n        [ 56, 105, 149],\n        [ 45,  89, 132],\n        ...,\n        [ 24,  77, 124],\n        [ 34,  84, 129],\n        [ 21,  67, 110]]], dtype=uint8)>",
     "output_type": "error",
     "traceback": [
      "\u001b[1;31m---------------------------------------------------------------------------\u001b[0m",
      "\u001b[1;31mValueError\u001b[0m                                Traceback (most recent call last)",
      "Cell \u001b[1;32mIn[55], line 2\u001b[0m\n\u001b[0;32m      1\u001b[0m \u001b[38;5;28;01mfor\u001b[39;00m test_image \u001b[38;5;129;01min\u001b[39;00m test_images:\n\u001b[1;32m----> 2\u001b[0m   decode_img\u001b[38;5;241m.\u001b[39mappend(\u001b[43mdecode_img_jpeg\u001b[49m\u001b[43m(\u001b[49m\u001b[43mtest_image\u001b[49m\u001b[43m,\u001b[49m\u001b[43m \u001b[49m\u001b[43mx\u001b[49m\u001b[43m)\u001b[49m)\n",
      "Cell \u001b[1;32mIn[54], line 3\u001b[0m, in \u001b[0;36mdecode_img_jpeg\u001b[1;34m(img, x)\u001b[0m\n\u001b[0;32m      1\u001b[0m \u001b[38;5;28;01mdef\u001b[39;00m \u001b[38;5;21mdecode_img_jpeg\u001b[39m(img,x):\n\u001b[0;32m      2\u001b[0m   img \u001b[38;5;241m=\u001b[39m tf\u001b[38;5;241m.\u001b[39mconvert_to_tensor(img, dtype\u001b[38;5;241m=\u001b[39mtf\u001b[38;5;241m.\u001b[39muint8)\n\u001b[1;32m----> 3\u001b[0m   img \u001b[38;5;241m=\u001b[39m \u001b[43mtf\u001b[49m\u001b[38;5;241;43m.\u001b[39;49m\u001b[43mio\u001b[49m\u001b[38;5;241;43m.\u001b[39;49m\u001b[43mdecode_jpeg\u001b[49m\u001b[43m(\u001b[49m\u001b[43mimg\u001b[49m\u001b[43m,\u001b[49m\u001b[43m \u001b[49m\u001b[43mchannels\u001b[49m\u001b[38;5;241;43m=\u001b[39;49m\u001b[38;5;241;43m3\u001b[39;49m\u001b[43m)\u001b[49m\n\u001b[0;32m      4\u001b[0m   img \u001b[38;5;241m=\u001b[39m tf\u001b[38;5;241m.\u001b[39mimage\u001b[38;5;241m.\u001b[39mresize(img, [x, x])\n\u001b[0;32m      5\u001b[0m   \u001b[38;5;28;01mreturn\u001b[39;00m img\n",
      "File \u001b[1;32mc:\\Users\\naoki\\PythonVenv\\StudyVenv\\Lib\\site-packages\\tensorflow\\python\\util\\traceback_utils.py:153\u001b[0m, in \u001b[0;36mfilter_traceback.<locals>.error_handler\u001b[1;34m(*args, **kwargs)\u001b[0m\n\u001b[0;32m    151\u001b[0m \u001b[38;5;28;01mexcept\u001b[39;00m \u001b[38;5;167;01mException\u001b[39;00m \u001b[38;5;28;01mas\u001b[39;00m e:\n\u001b[0;32m    152\u001b[0m   filtered_tb \u001b[38;5;241m=\u001b[39m _process_traceback_frames(e\u001b[38;5;241m.\u001b[39m__traceback__)\n\u001b[1;32m--> 153\u001b[0m   \u001b[38;5;28;01mraise\u001b[39;00m e\u001b[38;5;241m.\u001b[39mwith_traceback(filtered_tb) \u001b[38;5;28;01mfrom\u001b[39;00m \u001b[38;5;28;01mNone\u001b[39;00m\n\u001b[0;32m    154\u001b[0m \u001b[38;5;28;01mfinally\u001b[39;00m:\n\u001b[0;32m    155\u001b[0m   \u001b[38;5;28;01mdel\u001b[39;00m filtered_tb\n",
      "File \u001b[1;32mc:\\Users\\naoki\\PythonVenv\\StudyVenv\\Lib\\site-packages\\tensorflow\\python\\framework\\tensor.py:761\u001b[0m, in \u001b[0;36mTensor.__tf_tensor__\u001b[1;34m(self, dtype, name)\u001b[0m\n\u001b[0;32m    757\u001b[0m \u001b[38;5;28;01mdef\u001b[39;00m \u001b[38;5;21m__tf_tensor__\u001b[39m(\n\u001b[0;32m    758\u001b[0m     \u001b[38;5;28mself\u001b[39m, dtype: Optional[dtypes\u001b[38;5;241m.\u001b[39mDType] \u001b[38;5;241m=\u001b[39m \u001b[38;5;28;01mNone\u001b[39;00m, name: Optional[\u001b[38;5;28mstr\u001b[39m] \u001b[38;5;241m=\u001b[39m \u001b[38;5;28;01mNone\u001b[39;00m\n\u001b[0;32m    759\u001b[0m     ) \u001b[38;5;241m-\u001b[39m\u001b[38;5;241m>\u001b[39m \u001b[38;5;124m\"\u001b[39m\u001b[38;5;124mTensor\u001b[39m\u001b[38;5;124m\"\u001b[39m:\n\u001b[0;32m    760\u001b[0m   \u001b[38;5;28;01mif\u001b[39;00m dtype \u001b[38;5;129;01mis\u001b[39;00m \u001b[38;5;129;01mnot\u001b[39;00m \u001b[38;5;28;01mNone\u001b[39;00m \u001b[38;5;129;01mand\u001b[39;00m \u001b[38;5;129;01mnot\u001b[39;00m dtype\u001b[38;5;241m.\u001b[39mis_compatible_with(\u001b[38;5;28mself\u001b[39m\u001b[38;5;241m.\u001b[39mdtype):\n\u001b[1;32m--> 761\u001b[0m     \u001b[38;5;28;01mraise\u001b[39;00m \u001b[38;5;167;01mValueError\u001b[39;00m(\n\u001b[0;32m    762\u001b[0m         _add_error_prefix(\n\u001b[0;32m    763\u001b[0m             \u001b[38;5;124mf\u001b[39m\u001b[38;5;124m\"\u001b[39m\u001b[38;5;124mTensor conversion requested dtype \u001b[39m\u001b[38;5;132;01m{\u001b[39;00mdtype\u001b[38;5;241m.\u001b[39mname\u001b[38;5;132;01m}\u001b[39;00m\u001b[38;5;124m \u001b[39m\u001b[38;5;124m\"\u001b[39m\n\u001b[0;32m    764\u001b[0m             \u001b[38;5;124mf\u001b[39m\u001b[38;5;124m\"\u001b[39m\u001b[38;5;124mfor Tensor with dtype \u001b[39m\u001b[38;5;132;01m{\u001b[39;00m\u001b[38;5;28mself\u001b[39m\u001b[38;5;241m.\u001b[39mdtype\u001b[38;5;241m.\u001b[39mname\u001b[38;5;132;01m}\u001b[39;00m\u001b[38;5;124m: \u001b[39m\u001b[38;5;132;01m{\u001b[39;00m\u001b[38;5;28mself\u001b[39m\u001b[38;5;132;01m!r}\u001b[39;00m\u001b[38;5;124m\"\u001b[39m,\n\u001b[0;32m    765\u001b[0m             name\u001b[38;5;241m=\u001b[39mname))\n\u001b[0;32m    766\u001b[0m   \u001b[38;5;28;01mreturn\u001b[39;00m \u001b[38;5;28mself\u001b[39m\n",
      "\u001b[1;31mValueError\u001b[0m: Tensor conversion requested dtype string for Tensor with dtype uint8: <tf.Tensor: shape=(32, 32, 3), dtype=uint8, numpy=\narray([[[158, 112,  49],\n        [159, 111,  47],\n        [165, 116,  51],\n        ...,\n        [137,  95,  36],\n        [126,  91,  36],\n        [116,  85,  33]],\n\n       [[152, 112,  51],\n        [151, 110,  40],\n        [159, 114,  45],\n        ...,\n        [136,  95,  31],\n        [125,  91,  32],\n        [119,  88,  34]],\n\n       [[151, 110,  47],\n        [151, 109,  33],\n        [158, 111,  36],\n        ...,\n        [139,  98,  34],\n        [130,  95,  34],\n        [120,  89,  33]],\n\n       ...,\n\n       [[ 68, 124, 177],\n        [ 42, 100, 148],\n        [ 31,  88, 137],\n        ...,\n        [ 38,  97, 146],\n        [ 13,  64, 108],\n        [ 40,  85, 127]],\n\n       [[ 61, 116, 168],\n        [ 49, 102, 148],\n        [ 35,  85, 132],\n        ...,\n        [ 26,  82, 130],\n        [ 29,  82, 126],\n        [ 20,  64, 107]],\n\n       [[ 54, 107, 160],\n        [ 56, 105, 149],\n        [ 45,  89, 132],\n        ...,\n        [ 24,  77, 124],\n        [ 34,  84, 129],\n        [ 21,  67, 110]]], dtype=uint8)>"
     ]
    }
   ],
   "source": [
    "for test_image in test_images:\n",
    "  encode_img.append(encode_img_jpeg(test_image, x))"
   ]
  },
  {
   "cell_type": "code",
   "execution_count": 8,
   "metadata": {},
   "outputs": [
    {
     "name": "stdout",
     "output_type": "stream",
     "text": [
      "10.0594463\n"
     ]
    }
   ],
   "source": [
    "tf.print(Metrics.PSNR(train_images[0], train_images[1]))"
   ]
  },
  {
   "cell_type": "markdown",
   "metadata": {},
   "source": []
  },
  {
   "cell_type": "code",
   "execution_count": 3,
   "metadata": {},
   "outputs": [],
   "source": [
    "(_, _), (test_images, _) = datasets.cifar10.load_data()\n",
    "test_images = test_images[:10000]\n",
    "img_size = test_images.shape[1:]"
   ]
  },
  {
   "cell_type": "code",
   "execution_count": 19,
   "metadata": {},
   "outputs": [
    {
     "name": "stdout",
     "output_type": "stream",
     "text": [
      "4.392317422778761\n",
      "1.7157489932729535\n",
      "21\n",
      "0.390625\n"
     ]
    }
   ],
   "source": [
    "SNR = 20\n",
    "P = 1\n",
    "N = P/10**(SNR/10)\n",
    "C = np.log2(1+SNR)\n",
    "x = 20\n",
    "k = x**2*3\n",
    "n = np.prod(img_size)\n",
    "k_n = k/n\n",
    "R_max = k/n*C\n",
    "R = R_max\n",
    "# if R > 1:\n",
    "#   Q = 0.5*R\n",
    "# else:\n",
    "#   Q=1-0.5/R\n",
    "# Q = int(Q*100)\n",
    "Q = R/8\n",
    "Q = int(Q*100)\n",
    "print(C)\n",
    "print(R_max)\n",
    "print(Q)\n",
    "print(k_n)"
   ]
  },
  {
   "cell_type": "code",
   "execution_count": 15,
   "metadata": {},
   "outputs": [],
   "source": [
    "def compress_image(image, quality):\n",
    "  image = cv2.cvtColor(image, cv2.COLOR_RGB2BGR)\n",
    "  encode_param = [int(cv2.IMWRITE_JPEG_QUALITY), 100]\n",
    "  result, encimg = cv2.imencode('.jpeg', image, encode_param)\n",
    "  if not result:\n",
    "    print('could not encode image!')\n",
    "    return None\n",
    "  decimg = cv2.imdecode(encimg, 1)\n",
    "  decimg = cv2.imdecode(encimg, cv2.IMREAD_COLOR)\n",
    "  decimg = cv2.cvtColor(decimg, cv2.COLOR_BGR2RGB)\n",
    "  return decimg"
   ]
  },
  {
   "cell_type": "code",
   "execution_count": 16,
   "metadata": {},
   "outputs": [],
   "source": [
    "PSNR = []\n",
    "for test_image in test_images:\n",
    "  decode_img = compress_image(test_image, Q)\n",
    "  decode_img = decode_img/255.0\n",
    "  # print(np.mean(decode_img))\n",
    "  P = np.mean(decode_img)\n",
    "  N = P/10**(SNR/10)\n",
    "  # noise = np.random.normal(0, np.sqrt(N), decode_img.shape)\n",
    "  # print(noise)\n",
    "  # decode_img = decode_img + noise\n",
    "  # decode_img[decode_img > 1] = 1\n",
    "  # decode_img[decode_img < 0] = 0\n",
    "  test_image = test_image/255.0\n",
    "  PSNR.append(Metrics.PSNR(decode_img, test_image))"
   ]
  },
  {
   "cell_type": "code",
   "execution_count": 17,
   "metadata": {},
   "outputs": [
    {
     "name": "stdout",
     "output_type": "stream",
     "text": [
      "tf.Tensor(39.33548, shape=(), dtype=float32)\n"
     ]
    }
   ],
   "source": [
    "PSNR_avg = sum(PSNR)/len(PSNR)\n",
    "print(PSNR_avg)"
   ]
  },
  {
   "cell_type": "code",
   "execution_count": 18,
   "metadata": {},
   "outputs": [
    {
     "data": {
      "image/png": "[encoded data removed]",
      "text/plain": [
       "<Figure size 1000x500 with 2 Axes>"
      ]
     },
     "metadata": {},
     "output_type": "display_data"
    }
   ],
   "source": [
    "# 結果の表示\n",
    "fig, axes = plt.subplots(1, 2, figsize=(10, 5))\n",
    "axes[0].imshow(test_images[9999])\n",
    "axes[0].set_title('Original Image')\n",
    "axes[0].axis('off')\n",
    "\n",
    "axes[1].imshow(decode_img)\n",
    "axes[1].set_title(f'Compressed Image (k/n={round(k_n, 2)}, SNR={SNR}dB)')\n",
    "axes[1].axis('off')\n",
    "\n",
    "plt.show()"
   ]
  },
  {
   "cell_type": "code",
   "execution_count": 77,
   "metadata": {},
   "outputs": [
    {
     "name": "stdout",
     "output_type": "stream",
     "text": [
      "30.5848961\n"
     ]
    }
   ],
   "source": [
    "decode_img = decode_img/255.0\n",
    "test_image = test_images[0]/255.0\n",
    "\n",
    "tf.print(Metrics.PSNR(decode_img, test_images[0]))"
   ]
  },
  {
   "cell_type": "code",
   "execution_count": 53,
   "metadata": {},
   "outputs": [
    {
     "data": {
      "image/png": "[encoded data removed]",
      "text/plain": [
       "<Figure size 1500x500 with 3 Axes>"
      ]
     },
     "metadata": {},
     "output_type": "display_data"
    }
   ],
   "source": [
    "import cv2\n",
    "import numpy as np\n",
    "import matplotlib.pyplot as plt\n",
    "from tensorflow.keras.datasets import cifar10\n",
    "from skimage.metrics import peak_signal_noise_ratio as psnr\n",
    "\n",
    "# CIFAR-10データセットの読み込み\n",
    "(x_train, y_train), (x_test, y_test) = cifar10.load_data()\n",
    "\n",
    "# 最初の画像を取得\n",
    "original_image = x_train[0]\n",
    "\n",
    "# JPEGで圧縮\n",
    "def compress_image(img):\n",
    "    img = cv2.cvtColor(img, cv2.COLOR_RGB2BGR)  # change color from RGB to BGR\n",
    "    is_success, jpeg = cv2.imencode('.jpg', img, (cv2.IMWRITE_JPEG_QUALITY, 100)) # convert to jpeg\n",
    "    if not is_success:\n",
    "        print('could not encode image!')\n",
    "        return None\n",
    "    jpeg = cv2.imdecode(jpeg, cv2.IMREAD_COLOR)\n",
    "    jpeg = cv2.cvtColor(decimg, cv2.COLOR_BGR2RGB)\n",
    "    return decimg\n",
    "\n",
    "# AWGNノイズを追加\n",
    "def add_awgn_noise(image, noise_std_dev):\n",
    "    row, col, ch = image.shape\n",
    "    mean = 0\n",
    "    gauss = np.random.normal(mean, noise_std_dev, (row, col, ch))\n",
    "    noisy = image + gauss\n",
    "    noisy = np.clip(noisy, 0, 255)\n",
    "    return noisy.astype(np.uint8)\n",
    "\n",
    "# PSNRを計算\n",
    "def calculate_psnr(original, compressed):\n",
    "    return psnr(original, compressed, data_range=255)\n",
    "\n",
    "# 圧縮レートを指定\n",
    "quality = 50  # 圧縮レートを指定 (例: 50)\n",
    "compressed_image = compress_image(original_image, quality)\n",
    "\n",
    "# ノイズの標準偏差を指定してノイズを追加\n",
    "noise_std_dev = 20\n",
    "noisy_image = add_awgn_noise(compressed_image, noise_std_dev)\n",
    "\n",
    "# PSNRの計算\n",
    "psnr_compressed = calculate_psnr(original_image, compressed_image)\n",
    "psnr_noisy = calculate_psnr(original_image, noisy_image)\n",
    "\n",
    "# 結果の表示\n",
    "fig, axes = plt.subplots(1, 3, figsize=(15, 5))\n",
    "axes[0].imshow(original_image)\n",
    "axes[0].set_title('Original Image')\n",
    "axes[0].axis('off')\n",
    "\n",
    "axes[1].imshow(compressed_image)\n",
    "axes[1].set_title(f'Compressed Image\\n(PSNR={psnr_compressed:.2f})')\n",
    "axes[1].axis('off')\n",
    "\n",
    "axes[2].imshow(noisy_image)\n",
    "axes[2].set_title(f'Noisy Image\\n(PSNR={psnr_noisy:.2f})')\n",
    "axes[2].axis('off')\n",
    "\n",
    "plt.show()\n"
   ]
  },
  {
   "cell_type": "code",
   "execution_count": 79,
   "metadata": {},
   "outputs": [
    {
     "name": "stdout",
     "output_type": "stream",
     "text": [
      "[255 216 255 ... 167 255 217]\n",
      "[[[157 113  48]\n",
      "  [156 112  47]\n",
      "  [164 116  52]\n",
      "  ...\n",
      "  [137  95  35]\n",
      "  [128  91  36]\n",
      "  [117  84  30]]\n",
      "\n",
      " [[155 112  44]\n",
      "  [153 108  41]\n",
      "  [161 113  47]\n",
      "  ...\n",
      "  [136  94  34]\n",
      "  [126  90  32]\n",
      "  [120  88  31]]\n",
      "\n",
      " [[154 109  41]\n",
      "  [154 107  39]\n",
      "  [160 110  41]\n",
      "  ...\n",
      "  [138  98  36]\n",
      "  [131  95  35]\n",
      "  [123  88  30]]\n",
      "\n",
      " ...\n",
      "\n",
      " [[ 70 123 175]\n",
      "  [ 45  98 150]\n",
      "  [ 34  87 139]\n",
      "  ...\n",
      "  [ 42  95 145]\n",
      "  [ 15  62 108]\n",
      "  [ 40  85 127]]\n",
      "\n",
      " [[ 62 114 164]\n",
      "  [ 49 101 149]\n",
      "  [ 34  84 133]\n",
      "  ...\n",
      "  [ 29  81 129]\n",
      "  [ 32  80 126]\n",
      "  [ 18  65 109]]\n",
      "\n",
      " [[ 55 107 155]\n",
      "  [ 54 104 153]\n",
      "  [ 42  90 138]\n",
      "  ...\n",
      "  [ 25  77 124]\n",
      "  [ 35  83 129]\n",
      "  [ 20  67 111]]]\n"
     ]
    },
    {
     "ename": "NameError",
     "evalue": "name 'original_image' is not defined",
     "output_type": "error",
     "traceback": [
      "\u001b[1;31m---------------------------------------------------------------------------\u001b[0m",
      "\u001b[1;31mNameError\u001b[0m                                 Traceback (most recent call last)",
      "Cell \u001b[1;32mIn[79], line 40\u001b[0m\n\u001b[0;32m     34\u001b[0m \u001b[38;5;66;03m# PSNRの計算\u001b[39;00m\n\u001b[0;32m     35\u001b[0m \u001b[38;5;66;03m# psnr_compressed = calculate_psnr(original_image, compressed_image)\u001b[39;00m\n\u001b[0;32m     36\u001b[0m \u001b[38;5;66;03m# psnr_noisy = calculate_psnr(original_image, noisy_image)\u001b[39;00m\n\u001b[0;32m     37\u001b[0m \n\u001b[0;32m     38\u001b[0m \u001b[38;5;66;03m# 結果の表示\u001b[39;00m\n\u001b[0;32m     39\u001b[0m fig, axes \u001b[38;5;241m=\u001b[39m plt\u001b[38;5;241m.\u001b[39msubplots(\u001b[38;5;241m1\u001b[39m, \u001b[38;5;241m3\u001b[39m, figsize\u001b[38;5;241m=\u001b[39m(\u001b[38;5;241m15\u001b[39m, \u001b[38;5;241m5\u001b[39m))\n\u001b[1;32m---> 40\u001b[0m axes[\u001b[38;5;241m0\u001b[39m]\u001b[38;5;241m.\u001b[39mimshow(\u001b[43moriginal_image\u001b[49m)\n\u001b[0;32m     41\u001b[0m axes[\u001b[38;5;241m0\u001b[39m]\u001b[38;5;241m.\u001b[39mset_title(\u001b[38;5;124m'\u001b[39m\u001b[38;5;124mOriginal Image\u001b[39m\u001b[38;5;124m'\u001b[39m)\n\u001b[0;32m     42\u001b[0m axes[\u001b[38;5;241m0\u001b[39m]\u001b[38;5;241m.\u001b[39maxis(\u001b[38;5;124m'\u001b[39m\u001b[38;5;124moff\u001b[39m\u001b[38;5;124m'\u001b[39m)\n",
      "\u001b[1;31mNameError\u001b[0m: name 'original_image' is not defined"
     ]
    },
    {
     "data": {
      "image/png": "[encoded data removed]",
      "text/plain": [
       "<Figure size 1500x500 with 3 Axes>"
      ]
     },
     "metadata": {},
     "output_type": "display_data"
    }
   ],
   "source": [
    "import cv2\n",
    "import numpy as np\n",
    "import matplotlib.pyplot as plt\n",
    "from tensorflow.keras.datasets import cifar10\n",
    "from skimage.metrics import peak_signal_noise_ratio as psnr\n",
    "\n",
    "# CIFAR-10データセットの読み込み\n",
    "(_, _), (org_img, _) = cifar10.load_data()\n",
    "\n",
    "# convert image to jpeg\n",
    "def img2jpeg(img):\n",
    "    img = cv2.cvtColor(img, cv2.COLOR_RGB2BGR)  # change color from RGB to BGR\n",
    "    is_success, jpeg = cv2.imencode('.jpg', img, (cv2.IMWRITE_JPEG_QUALITY, 100)) # convert to jpeg\n",
    "    if not is_success:\n",
    "        print('could not encode image!')\n",
    "        return None\n",
    "    print(jpeg)\n",
    "    jpeg = cv2.imdecode(jpeg, cv2.IMREAD_COLOR) # decode\n",
    "    jpeg = cv2.cvtColor(jpeg, cv2.COLOR_BGR2RGB)  # change clolor from BGR to RGB\n",
    "    return jpeg\n",
    "\n",
    "\n",
    "# PSNRを計算\n",
    "def calculate_psnr(original, compressed):\n",
    "    return psnr(original, compressed, data_range=255)\n",
    "\n",
    "jpeg = img2jpeg(org_img[0])\n",
    "\n",
    "print(jpeg)\n",
    "\n",
    "\n",
    "\n",
    "\n",
    "# PSNRの計算\n",
    "# psnr_compressed = calculate_psnr(original_image, compressed_image)\n",
    "# psnr_noisy = calculate_psnr(original_image, noisy_image)\n",
    "\n",
    "# 結果の表示\n",
    "fig, axes = plt.subplots(1, 3, figsize=(15, 5))\n",
    "axes[0].imshow(original_image)\n",
    "axes[0].set_title('Original Image')\n",
    "axes[0].axis('off')\n",
    "\n",
    "axes[1].imshow(compressed_image)\n",
    "axes[1].set_title(f'Compressed Image\\n(PSNR={psnr_compressed:.2f})')\n",
    "axes[1].axis('off')\n",
    "\n",
    "axes[2].imshow(noisy_image)\n",
    "axes[2].set_title(f'Noisy Image\\n(PSNR={psnr_noisy:.2f})')\n",
    "axes[2].axis('off')\n",
    "\n",
    "plt.show()\n"
   ]
  },
  {
   "cell_type": "code",
   "execution_count": 13,
   "metadata": {},
   "outputs": [
    {
     "name": "stdout",
     "output_type": "stream",
     "text": [
      "<PIL.Image.Image image mode=RGB size=32x32 at 0x19BCB068450>\n",
      "画像の保存が完了しました。\n"
     ]
    }
   ],
   "source": [
    "import tensorflow as tf\n",
    "import numpy as np\n",
    "from PIL import Image\n",
    "import os\n",
    "\n",
    "# CIFAR-10データセットをロード\n",
    "(_, _), (org_img, _) = tf.keras.datasets.cifar10.load_data()\n",
    "\n",
    "org_img = org_img[:100]\n",
    "\n",
    "# トレーニングデータの画像を保存\n",
    "for i in range(org_img.shape[0]):\n",
    "  img = Image.fromarray(org_img[i])\n",
    "  img.save(f\"./images/org_img_{i}.png\")\n",
    "\n",
    "print(img)\n",
    "print(\"画像の保存が完了しました。\")\n"
   ]
  },
  {
   "cell_type": "code",
   "execution_count": 14,
   "metadata": {},
   "outputs": [
    {
     "ename": "TypeError",
     "evalue": "'Image' object is not subscriptable",
     "output_type": "error",
     "traceback": [
      "\u001b[1;31m---------------------------------------------------------------------------\u001b[0m",
      "\u001b[1;31mTypeError\u001b[0m                                 Traceback (most recent call last)",
      "Cell \u001b[1;32mIn[14], line 7\u001b[0m\n\u001b[0;32m      4\u001b[0m axes[\u001b[38;5;241m0\u001b[39m]\u001b[38;5;241m.\u001b[39mset_title(\u001b[38;5;124m'\u001b[39m\u001b[38;5;124mOriginal Image\u001b[39m\u001b[38;5;124m'\u001b[39m)\n\u001b[0;32m      5\u001b[0m axes[\u001b[38;5;241m0\u001b[39m]\u001b[38;5;241m.\u001b[39maxis(\u001b[38;5;124m'\u001b[39m\u001b[38;5;124moff\u001b[39m\u001b[38;5;124m'\u001b[39m)\n\u001b[1;32m----> 7\u001b[0m axes[\u001b[38;5;241m1\u001b[39m]\u001b[38;5;241m.\u001b[39mimshow(\u001b[43mimg\u001b[49m\u001b[43m[\u001b[49m\u001b[38;5;241;43m0\u001b[39;49m\u001b[43m]\u001b[49m)\n\u001b[0;32m      8\u001b[0m axes[\u001b[38;5;241m1\u001b[39m]\u001b[38;5;241m.\u001b[39mset_title(\u001b[38;5;124mf\u001b[39m\u001b[38;5;124m'\u001b[39m\u001b[38;5;124mJPEG\u001b[39m\u001b[38;5;124m'\u001b[39m)\n\u001b[0;32m      9\u001b[0m axes[\u001b[38;5;241m1\u001b[39m]\u001b[38;5;241m.\u001b[39maxis(\u001b[38;5;124m'\u001b[39m\u001b[38;5;124moff\u001b[39m\u001b[38;5;124m'\u001b[39m)\n",
      "\u001b[1;31mTypeError\u001b[0m: 'Image' object is not subscriptable"
     ]
    },
    {
     "data": {
      "image/png": "[encoded data removed]",
      "text/plain": [
       "<Figure size 1000x500 with 2 Axes>"
      ]
     },
     "metadata": {},
     "output_type": "display_data"
    }
   ],
   "source": [
    "# 結果の表示\n",
    "fig, axes = plt.subplots(1, 2, figsize=(10, 5))\n",
    "axes[0].imshow(org_img[0])\n",
    "axes[0].set_title('Original Image')\n",
    "axes[0].axis('off')\n",
    "\n",
    "axes[1].imshow(img[0])\n",
    "axes[1].set_title(f'JPEG')\n",
    "axes[1].axis('off')\n",
    "\n",
    "plt.show()"
   ]
  },
  {
   "cell_type": "code",
   "execution_count": null,
   "metadata": {},
   "outputs": [],
   "source": []
  },
  {
   "cell_type": "code",
   "execution_count": 37,
   "metadata": {},
   "outputs": [],
   "source": [
    "import tensorflow as tf\n",
    "from PIL import Image\n",
    "import os\n",
    "import matplotlib.pyplot as plt\n",
    "from skimage.metrics import peak_signal_noise_ratio as psnr\n",
    "import numpy as np"
   ]
  },
  {
   "cell_type": "code",
   "execution_count": 67,
   "metadata": {},
   "outputs": [],
   "source": [
    "(_, _), (org_img, _) = datasets.cifar10.load_data()\n",
    "opg_img = org_img[:10000]\n",
    "\n",
    "n = 32*32*3\n",
    "\n",
    "DIR = 'images'\n",
    "os.makedirs(DIR, exist_ok=True)\n",
    "img = Image.fromarray(org_img[0])\n",
    "img.save(f'{DIR}/org_img.bmp')\n",
    "for i in range(101):\n",
    "  img.save(f'{DIR}/quality_{i}.jpeg', format='JPEG', quality=i)\n"
   ]
  },
  {
   "cell_type": "code",
   "execution_count": 74,
   "metadata": {},
   "outputs": [
    {
     "name": "stdout",
     "output_type": "stream",
     "text": [
      "3072\n"
     ]
    }
   ],
   "source": [
    "print(len(org_img[0].tobytes()))"
   ]
  },
  {
   "cell_type": "code",
   "execution_count": 64,
   "metadata": {},
   "outputs": [],
   "source": [
    "file_size = []\n",
    "for i in range(101):\n",
    "  file_size.append(os.path.getsize(f'{DIR}/quality_{i}.jpeg'))\n",
    "\n",
    "R_max = [file_size/n*8 for file_size in file_size]"
   ]
  },
  {
   "cell_type": "code",
   "execution_count": 80,
   "metadata": {},
   "outputs": [
    {
     "name": "stdout",
     "output_type": "stream",
     "text": [
      "25.41356706265465\n",
      "inf\n",
      "777\n"
     ]
    },
    {
     "name": "stderr",
     "output_type": "stream",
     "text": [
      "c:\\Users\\naoki\\PythonVenv\\StudyVenv\\Lib\\site-packages\\skimage\\metrics\\simple_metrics.py:168: RuntimeWarning: divide by zero encountered in scalar divide\n",
      "  return 10 * np.log10((data_range**2) / err)\n"
     ]
    }
   ],
   "source": [
    "jpeg_img = np.array(Image.open(f'{DIR}/quality_35.jpeg'))\n",
    "bmp_img = np.array(Image.open(f'{DIR}/org_img.bmp'))\n",
    "print(psnr(org_img[0], jpeg_img, data_range=255))\n",
    "print(psnr(org_img[0], bmp_img, data_range=255))\n",
    "print(file_size[35])"
   ]
  },
  {
   "cell_type": "code",
   "execution_count": 81,
   "metadata": {},
   "outputs": [
    {
     "data": {
      "image/png": "[encoded data removed]",
      "text/plain": [
       "<Figure size 1000x500 with 2 Axes>"
      ]
     },
     "metadata": {},
     "output_type": "display_data"
    }
   ],
   "source": [
    "# 結果の表示\n",
    "fig, axes = plt.subplots(1, 2, figsize=(10, 5))\n",
    "axes[0].plot(file_size)\n",
    "axes[0].set_title('file size')\n",
    "\n",
    "axes[1].plot(R_max)\n",
    "axes[1].set_title('R_max')\n",
    "\n",
    "plt.show()"
   ]
  },
  {
   "cell_type": "code",
   "execution_count": 32,
   "metadata": {},
   "outputs": [
    {
     "name": "stderr",
     "output_type": "stream",
     "text": [
      "100%|██████████| 1001/1001 [00:05<00:00, 189.12it/s]\n"
     ]
    }
   ],
   "source": [
    "import cv2, statistics\n",
    "import numpy as np\n",
    "import tensorflow as tf\n",
    "import matplotlib.pyplot as plt\n",
    "import tqdm\n",
    "\n",
    "(_, _), (org_img, _) = tf.keras.datasets.cifar10.load_data()\n",
    "org_img = org_img[:1]\n",
    "\n",
    "\n",
    "def get_jpeg_size(img, quality):\n",
    "  # jpeg_bytes = cv2.imwrite(f'{quality}.jp2', img, [cv2.IMWRITE_JPEG2000_COMPRESSION_X1000, quality])\n",
    "  jpeg_bytes = cv2.imencode('.jp2', img, [cv2.IMWRITE_JPEG2000_COMPRESSION_X1000, quality])[1].tobytes()\n",
    "\n",
    "  data_size = len(jpeg_bytes)\n",
    "\n",
    "  return data_size\n",
    "\n",
    "\n",
    "\n",
    "data_size = []\n",
    "data_size_avg = []\n",
    "quality = np.arange(0, 1001, 1)\n",
    "for q in tqdm.tqdm(quality):\n",
    "  for img in org_img:\n",
    "    data_size.append(get_jpeg_size(img, q))\n",
    "  avg = statistics.mean(data_size)\n",
    "  data_size_avg.append(avg)\n",
    "    \n",
    "\n"
   ]
  },
  {
   "cell_type": "code",
   "execution_count": 33,
   "metadata": {},
   "outputs": [
    {
     "name": "stdout",
     "output_type": "stream",
     "text": [
      "[255, 255, 255, 255, 255, 255, 255, 255, 255, 255, 255, 255, 255, 255, 255, 255, 255, 255, 255, 255, 255, 255, 255, 255, 255, 255, 255, 255, 255, 255, 255, 255, 255, 255, 255, 255, 255, 255, 255, 255, 255, 255, 255, 255, 255, 255, 255, 255, 255, 255, 255, 255, 255, 255, 255, 255, 255, 255, 255, 255, 255, 255, 255, 255, 255, 255, 255, 255, 255, 255, 255, 255, 255, 255, 255, 255, 255, 255, 255, 255, 255.07407407407408, 255.14634146341464, 255.21686746987953, 255.38095238095238, 255.6, 255.84883720930233, 256.1264367816092, 256.4318181818182, 256.7303370786517, 257.1, 257.4835164835165, 257.9021739130435, 258.3333333333333, 258.75531914893617, 259.22105263157897, 259.7083333333333, 260.21649484536084, 260.765306122449, 261.3030303030303, 261.88, 262.44554455445547, 263.0686274509804, 263.70873786407765, 264.3557692307692, 265.03809523809525, 265.72641509433964, 266.4392523364486, 267.1388888888889, 267.86238532110093, 268.57272727272726, 269.34234234234236, 270.11607142857144, 270.9026548672566, 271.67543859649123, 272.4869565217391, 273.2844827586207, 274.13675213675214, 274.97457627118644, 275.84033613445376, 276.71666666666664, 277.60330578512395, 278.4754098360656, 279.3739837398374, 280.2983870967742, 281.232, 282.1507936507937, 283.09448818897636, 284.0234375, 285, 285.9769230769231, 286.96946564885496, 287.9621212121212, 288.9398496240602, 289.94776119402985, 290.97037037037035, 291.99264705882354, 293, 294.04347826086956, 295.0719424460432, 296.12857142857143, 297.17021276595744, 298.2464788732394, 299.3286713286713, 300.40972222222223, 301.4896551724138, 302.55479452054794, 303.65986394557825, 304.7635135135135, 305.8523489932886, 306.9266666666667, 307.9867549668874, 309.1118421052632, 310.24183006535947, 311.38961038961037, 312.541935483871, 313.6794871794872, 314.80254777070064, 315.96835443037975, 317.1320754716981, 318.30625, 319.46583850931677, 320.6358024691358, 321.7914110429448, 322.9817073170732, 324.1575757575758, 325.3192771084337, 326.50898203592817, 327.6845238095238, 328.89940828402365, 330.1, 331.2865497076023, 332.5, 333.6994219653179, 334.88505747126436, 336.0571428571429, 337.21590909090907, 338.361581920904, 339.6011235955056, 340.8491620111732, 342.0833333333333, 343.30386740331494, 344.510989010989, 345.7049180327869, 346.9728260869565, 348.23783783783784, 349.48924731182797, 350.72727272727275, 351.95212765957444, 353.2275132275132, 354.4894736842105, 355.76439790575915, 357.0260416666667, 358.2746113989637, 359.55670103092785, 360.84615384615387, 362.14285714285717, 363.4263959390863, 364.6969696969697, 366.00502512562815, 367.31, 368.60199004975124, 369.8811881188119, 371.192118226601, 372.4901960784314, 373.77560975609754, 375.0485436893204, 376.3719806763285, 377.6826923076923, 379.0047846889952, 380.3142857142857, 381.61137440758296, 382.9481132075472, 384.2723004694836, 385.60747663551405, 386.9441860465116, 388.26851851851853, 389.5806451612903, 390.8807339449541, 392.2283105022831, 393.56363636363636, 394.91402714932127, 396.26126126126127, 397.60538116591925, 398.9375, 400.2888888888889, 401.62831858407077, 402.98237885462555, 404.32456140350877, 405.65502183406113, 406.97391304347826, 408.3376623376623, 409.70258620689657, 411.0557939914163, 412.3974358974359, 413.7276595744681, 415.04661016949154, 416.4177215189873, 417.7773109243698, 419.1589958158996, 420.5416666666667, 421.9128630705394, 423.27272727272725, 424.6502057613169, 426.0163934426229, 427.37142857142857, 428.7154471544715, 430.0485829959514, 431.3709677419355, 432.7550200803213, 434.128, 435.49003984063745, 436.8809523809524, 438.2608695652174, 439.62992125984255, 440.98823529411766, 442.3359375, 443.67315175097275, 445.06976744186045, 446.4749034749035, 447.87692307692305, 449.2681992337165, 450.64885496183206, 452.01901140684413, 453.3787878787879, 454.7849056603774, 456.19172932330827, 457.60674157303373, 459.0223880597015, 460.4275092936803, 461.8222222222222, 463.23985239852396, 464.65808823529414, 466.0769230769231, 467.485401459854, 468.88363636363636, 470.30434782608694, 471.7184115523466, 473.136690647482, 474.5448028673835, 475.9642857142857, 477.37366548042706, 478.8014184397163, 480.2190812720848, 481.6267605633803, 483.05263157894734, 484.46853146853147, 485.8745644599303, 487.3020833333333, 488.7335640138408, 490.1551724137931, 491.5670103092784, 492.9691780821918, 494.3617747440273, 495.79931972789115, 497.23050847457625, 498.6689189189189, 500.0976430976431, 501.53355704697987, 502.96655518394647, 504.39, 505.8239202657807, 507.24834437086093, 508.6897689768977, 510.1217105263158, 511.544262295082, 512.9803921568628, 514.4071661237786, 515.8246753246754, 517.2330097087379, 518.6774193548387, 520.1125401929261, 521.5384615384615, 522.9552715654952, 524.3630573248407, 525.8063492063492, 527.2405063291139, 528.6908517350158, 530.1352201257862, 531.5705329153604, 533.01875, 534.4672897196261, 535.9068322981367, 537.3622291021671, 538.8086419753087, 540.2615384615384, 541.7147239263803, 543.1651376146789, 544.6189024390244, 546.0699088145897, 547.5121212121212, 548.9667673716012, 550.4126506024096, 551.8708708708708, 553.3233532934132, 554.7820895522389, 556.2321428571429, 557.6884272997032, 559.1508875739645, 560.6047197640117, 562.0617647058823, 563.5102639296188, 564.9502923976609, 566.3819241982508, 567.8052325581396, 569.2202898550725, 570.6271676300578, 572.0922190201729, 573.5545977011494, 575.0085959885387, 576.4542857142857, 577.8917378917379, 579.3210227272727, 580.7422096317281, 582.2118644067797, 583.6732394366197, 585.126404494382, 586.5714285714286, 588.0083798882681, 589.4735376044569, 590.9305555555555, 592.3795013850415, 593.8204419889503, 595.2534435261708, 596.6785714285714, 598.1534246575343, 599.6229508196722, 601.0844686648502, 602.5380434782609, 603.9837398373984, 605.4216216216216, 606.8517520215634, 608.3279569892474, 609.7962466487936, 611.2566844919786, 612.7306666666667, 614.1968085106383, 615.6551724137931, 617.1058201058202, 618.5488126649077, 619.9842105263158, 621.4120734908137, 622.8926701570681, 624.3655352480417, 625.8307291666666, 627.2883116883116, 628.7383419689119, 630.1808785529715, 631.6159793814433, 633.0437017994859, 634.525641025641, 636, 637.4668367346939, 638.9262086513995, 640.4111675126903, 641.8936708860759, 643.3686868686868, 644.8362720403022, 646.2964824120603, 647.749373433584, 649.195, 650.6334164588528, 652.0646766169154, 653.5508684863523, 655.039603960396, 656.520987654321, 658.0098522167488, 659.4987714987715, 660.9852941176471, 662.4645476772616, 663.9365853658536, 665.4209245742093, 666.9101941747573, 668.3922518159807, 669.8671497584542, 671.3349397590362, 672.7956730769231, 674.2494004796163, 675.6961722488038, 677.1861575178998, 678.6690476190477, 680.1567695961995, 681.6374407582938, 683.1111111111111, 684.5990566037735, 686.08, 687.5539906103286, 689.0444964871194, 690.5373831775701, 692.02331002331, 693.5116279069767, 695.0046403712297, 696.4976851851852, 697.9838337182448, 699.463133640553, 700.9356321839081, 702.401376146789, 703.8604118993135, 705.3538812785388, 706.8496583143508, 708.3386363636364, 709.8321995464853, 711.3280542986425, 712.8171557562076, 714.3108108108108, 715.7977528089888, 717.2780269058296, 718.751677852349, 720.21875, 721.6792873051224, 723.1333333333333, 724.6319290465632, 726.1238938053098, 727.6225165562914, 729.114537444934, 730.6, 732.078947368421, 733.5514223194748, 735.0174672489082, 736.4771241830065, 737.9304347826087, 739.3774403470716, 740.8744588744589, 742.365010799136, 743.8491379310345, 745.3268817204302, 746.7982832618026, 748.2633832976445, 749.7649572649573, 751.2601279317697, 752.7574468085106, 754.2484076433121, 755.7330508474577, 757.2114164904863, 758.6835443037975, 760.1873684210526, 761.6848739495798, 763.1761006289308, 764.6799163179917, 766.1774530271399, 767.68125, 769.1829521829521, 770.6784232365145, 772.1677018633541, 773.650826446281, 775.1546391752578, 776.6522633744856, 778.1560574948666, 779.655737704918, 781.1595092024539, 782.665306122449, 784.1649694501018, 785.670731707317, 787.1703853955376, 788.6720647773279, 790.1676767676768, 791.6572580645161, 793.1408450704225, 794.6184738955824, 796.0901803607214, 797.556, 799.061876247505, 800.5617529880478, 802.065606361829, 803.563492063492, 805.0673267326732, 806.5652173913044, 808.0571992110454, 809.5433070866142, 811.0235756385068, 812.4980392156863, 813.9667318982388, 815.4296875, 816.8869395711502, 818.3385214007782, 819.8446601941747, 821.3449612403101, 822.8394584139265, 824.3281853281853, 825.8111753371869, 827.2884615384615, 828.7600767754319, 830.2260536398468, 831.6864244741873, 833.1946564885496, 834.6971428571428, 836.1939163498099, 837.7020872865276, 839.2045454545455, 840.7126654064273, 842.2150943396226, 843.7118644067797, 845.203007518797, 846.6885553470919, 848.1685393258427, 849.6429906542056, 851.1119402985074, 852.5754189944134, 854.0836431226766, 855.5862708719851, 857.0833333333334, 858.5748613678373, 860.0608856088561, 861.5414364640884, 863.0551470588235, 864.5651376146789, 866.0695970695971, 867.5685557586837, 869.0620437956204, 870.5500910746813, 872.0327272727272, 873.5099818511796, 875.0217391304348, 876.5316455696203, 878.0451263537906, 879.5585585585585, 881.06654676259, 882.5691202872531, 884.0663082437276, 885.5581395348837, 887.0732142857142, 888.5864527629234, 890.0943060498221, 891.5968028419182, 893.0939716312057, 894.5858407079646, 896.0724381625441, 897.5873015873016, 899.1021126760563, 900.6133567662566, 902.119298245614, 903.6199649737302, 905.1153846153846, 906.6282722513089, 908.1428571428571, 909.6521739130435, 911.15625, 912.6551126516464, 914.1487889273357, 915.66493955095, 917.1758620689656, 918.6815834767642, 920.1821305841925, 921.6775300171527, 923.167808219178, 924.6820512820512, 926.1911262798635, 927.6950596252129, 929.1938775510204, 930.7079796264856, 932.2220338983051, 933.736040609137, 935.2449324324324, 936.7487352445194, 938.2474747474747, 939.7411764705882, 941.2298657718121, 942.713567839196, 944.1923076923077, 945.6661101836394, 947.185, 948.6988352745424, 950.2176079734219, 951.7313432835821, 953.2400662251656, 954.7438016528926, 956.2425742574258, 957.7364085667216, 959.2253289473684, 960.7093596059113, 962.188524590164, 963.6628477905074, 965.1781045751634, 966.6982055464927, 968.21335504886, 969.7235772357724, 971.2288961038961, 972.7293354943274, 974.2249190938511, 975.7156704361875, 977.2016129032259, 978.682769726248, 980.1591639871383, 981.6757624398074, 983.1875, 984.704, 986.2236421725239, 987.7384370015949, 989.2579617834394, 990.7790143084261, 992.2952380952381, 993.8066561014263, 995.3275316455696, 996.8436018957347, 998.3548895899054, 999.8724409448819, 1001.3852201257862, 1002.9026687598116, 1004.4153605015674, 1005.9358372456963, 1007.4546875, 1008.9687987519501, 1010.4906542056075, 1012.0077760497667, 1013.5201863354038, 1015.0279069767441, 1016.530959752322, 1018.0494590417311, 1019.5632716049382, 1021.0724191063174, 1022.5769230769231, 1024.0768049155147, 1025.5950920245398, 1027.1087289433385, 1028.6177370030582, 1030.1221374045801, 1031.6417682926829, 1033.1567732115677, 1034.6671732522796, 1036.1729893778452, 1037.6939393939394, 1039.213313161876, 1040.728096676737, 1042.238310708899, 1043.7439759036145, 1045.245112781955, 1046.7417417417416, 1048.2338830584708, 1049.7215568862275, 1051.204783258595, 1052.6835820895521, 1054.1579731743666, 1055.6815476190477, 1057.2005943536403, 1058.7151335311573, 1060.2251851851852, 1061.7307692307693, 1063.231905465288, 1064.7536873156341, 1066.2739322533137, 1067.789705882353, 1069.301027900147, 1070.807917888563, 1072.3103953147877, 1073.8347953216373, 1075.3547445255474, 1076.8702623906706, 1078.3813682678312, 1079.8880813953488, 1081.390420899855, 1082.9130434782608, 1084.4312590448626, 1085.9450867052024, 1087.4545454545455, 1088.9596541786743, 1090.4604316546763, 1091.9568965517242, 1093.480631276901, 1095, 1096.5150214592275, 1098.0257142857142, 1099.5320970042796, 1101.034188034188, 1102.5320056899004, 1104.0568181818182, 1105.5801418439717, 1107.0991501416431, 1108.6138613861385, 1110.1242937853108, 1111.6304654442877, 1113.132394366197, 1114.6300984528832, 1116.1558988764045, 1117.6774193548388, 1119.1946778711485, 1120.7076923076922, 1122.2164804469273, 1123.721059972106, 1125.2214484679666, 1126.7176634214186, 1128.2430555555557, 1129.764216366158, 1131.281163434903, 1132.8035961272476, 1134.3218232044198, 1135.846896551724, 1137.3677685950413, 1138.8844566712517, 1140.4093406593406, 1141.9300411522634, 1143.4465753424658, 1144.9589603283173, 1146.467213114754, 1147.9713506139153, 1149.4713896457765, 1150.9673469387756, 1152.491847826087, 1154.0162822252375, 1155.5365853658536, 1157.0527740189445, 1158.5648648648648, 1160.0728744939272, 1161.576819407008, 1163.0767160161508, 1164.6021505376343, 1166.1261744966444, 1167.6461126005363, 1169.1619812583667, 1170.6858288770054, 1172.2056074766356, 1173.7306666666666, 1175.2516644474035, 1176.779255319149, 1178.3027888446215, 1179.8302387267904, 1181.353642384106, 1182.873015873016, 1184.3883751651256, 1185.8997361477573, 1187.407114624506, 1188.9105263157894, 1190.4375821287779, 1191.9606299212599, 1193.4796854521626, 1194.9947643979058, 1196.5058823529412, 1198.0130548302873, 1199.5162972620599, 1201.04296875, 1202.5656697009103, 1204.0935064935065, 1205.6173800259403, 1207.1373056994819, 1208.653298835705, 1210.1653746770025, 1211.6735483870968, 1213.1778350515465, 1214.7027027027027, 1216.223650385604, 1217.7496790757382, 1219.2717948717948, 1220.7900128040974, 1222.304347826087, 1223.8148148148148, 1225.3214285714287, 1226.8496815286624, 1228.3740458015268, 1229.8945362134689, 1231.4111675126903, 1232.9239543726235, 1234.432911392405, 1235.9380530973451, 1237.4646464646464, 1238.9873896595209, 1240.5062972292192, 1242.0213836477988, 1243.532663316583, 1245.0401505646173, 1246.5438596491229, 1248.0438047559448, 1249.54, 1251.032459425718, 1252.5211970074813, 1254.0485678704856, 1255.5721393034826, 1257.0919254658386, 1258.6079404466502, 1260.1201982651796, 1261.6287128712872, 1263.133498145859, 1264.6345679012345, 1266.1319358816277, 1267.6256157635469, 1269.1156211562115, 1270.6449631449632, 1272.1705521472393, 1273.6924019607843, 1275.2105263157894, 1276.7249388753057, 1278.2356532356532, 1279.7426829268293, 1281.2460414129112, 1282.7457420924575, 1284.2417982989064, 1285.7342233009708, 1287.2230303030303, 1288.7506053268764, 1290.274486094317, 1291.7946859903382, 1293.3112183353437, 1294.8240963855421, 1296.3333333333333, 1297.8389423076924, 1299.3409363745498, 1300.8393285371703, 1302.3341317365268, 1303.8253588516745, 1305.3560334528077, 1306.8830548926014, 1308.4064362336114, 1309.9261904761904, 1311.4423305588584, 1312.9548693586698, 1314.4638196915778, 1315.994075829384, 1317.5207100591715, 1319.0437352245863, 1320.5631641086186, 1322.0790094339623, 1323.5912838633687, 1325.1, 1326.605170387779, 1328.106807511737, 1329.6049237983586, 1331.0995316159251, 1332.5906432748538, 1334.1191588785048, 1335.644107351225, 1337.1748251748252, 1338.7019790454017, 1340.2255813953489, 1341.7456445993032, 1343.262180974478, 1344.7752027809966, 1346.2847222222222, 1347.7907514450867, 1349.2933025404157, 1350.7923875432525, 1352.2880184331798, 1353.7802071346375, 1355.3103448275863, 1356.8369690011482, 1358.3600917431193, 1359.888888888889, 1361.4141876430206, 1362.9451428571429, 1364.472602739726, 1365.9965792474345, 1367.5170842824602, 1369.0341296928327, 1370.5477272727273, 1372.0578887627696, 1373.5646258503402, 1375.0679501698755, 1376.5678733031675, 1378.064406779661, 1379.5575620767495, 1381.086809470124, 1382.6126126126126, 1384.134983127109, 1385.6539325842696, 1387.1694725028058, 1388.6816143497758, 1390.1903695408735, 1391.6957494407159, 1393.1977653631284, 1394.6964285714287, 1396.1917502787069, 1397.7238307349667, 1399.2525027808676, 1400.7777777777778, 1402.299667036626, 1403.8181818181818, 1405.3333333333333, 1406.845132743363, 1408.353591160221, 1409.858719646799, 1411.3605292171997, 1412.8590308370044, 1414.3542354235424, 1415.8846153846155, 1417.4116355653127, 1418.935307017544, 1420.4556407447974, 1421.972647702407, 1423.4863387978141, 1424.9967248908297, 1426.503816793893, 1428.007625272331, 1429.5081610446136, 1431.0054347826087, 1432.499457111835, 1433.9902386117137, 1435.477789815818, 1436.9621212121212, 1438.4432432432432, 1439.9211663066956, 1441.395900755124, 1442.8674568965516, 1444.335844994618, 1445.8010752688172, 1447.2631578947369, 1448.7221030042917, 1450.1779206859592, 1451.6306209850106, 1453.0802139037432, 1454.5267094017095, 1455.9701173959445, 1457.410447761194, 1458.8477103301384, 1460.281914893617, 1461.7130712008502, 1463.1411889596602, 1464.5662778366914, 1465.988347457627, 1467.4074074074074, 1468.823467230444, 1470.2365364308341, 1471.6466244725739, 1473.053740779768, 1474.457894736842, 1475.8590956887488, 1477.2573529411766, 1478.6526757607555, 1480.045073375262, 1481.434554973822, 1482.821129707113, 1484.2048066875652, 1485.5855949895615, 1486.963503649635, 1488.3385416666667, 1489.7107180020812, 1491.0800415800416, 1492.4465212876428, 1493.8101659751037, 1495.1709844559587, 1496.5289855072465, 1497.8841778697001, 1499.236570247934, 1500.5861713106294, 1501.9329896907216, 1503.277033985582, 1504.6183127572017, 1505.9568345323742, 1507.2926078028747, 1508.625641025641, 1509.9559426229507, 1511.2835209825998, 1512.6083844580778, 1513.9305413687437, 1515.25, 1516.5667686034658, 1517.8808553971487, 1519.1922685656154, 1520.5010162601627, 1521.8071065989848, 1523.1105476673429, 1524.4113475177305, 1525.7095141700404, 1527.005055611729, 1528.29797979798, 1529.5882946518668, 1530.876008064516, 1532.1611278952669, 1533.443661971831, 1534.7236180904522, 1536.0010040160641, 1537.2758274824473, 1538.5480961923847, 1539.8178178178177, 1541.085, 1542.3496503496503]\n",
      "[   0    1    2 ...  998  999 1000]\n"
     ]
    },
    {
     "data": {
      "image/png": "[encoded data removed]",
      "text/plain": [
       "<Figure size 1000x500 with 2 Axes>"
      ]
     },
     "metadata": {},
     "output_type": "display_data"
    }
   ],
   "source": [
    "# 結果の表示\n",
    "print(data_size_avg)\n",
    "print(quality)\n",
    "fig, axes = plt.subplots(1, 2, figsize=(10, 5))\n",
    "axes[0].plot(quality, data_size_avg)\n",
    "axes[0].set_title('file size')\n",
    "\n",
    "\n",
    "plt.show()"
   ]
  },
  {
   "cell_type": "code",
   "execution_count": 27,
   "metadata": {},
   "outputs": [
    {
     "data": {
      "text/plain": [
       "22.7128748665563"
      ]
     },
     "execution_count": 27,
     "metadata": {},
     "output_type": "execute_result"
    }
   ],
   "source": [
    "import cv2, statistics\n",
    "import numpy as np\n",
    "import tensorflow as tf\n",
    "import matplotlib.pyplot as plt\n",
    "from skimage.metrics import peak_signal_noise_ratio as psnr\n",
    "\n",
    "(_, _), (org_img, _) = tf.keras.datasets.cifar10.load_data()\n",
    "org_img = org_img[:100]\n",
    "\n",
    "n = org_img[0].size\n",
    "\n",
    "SNR = 20\n",
    "k_n = 0.4\n",
    "C = np.log2(1+SNR)\n",
    "R_max = k_n*C\n",
    "s = int(np.sqrt(n*R_max/(8*3)))\n",
    "\n",
    "def jpeg_resize(img):\n",
    "  img = cv2.cvtColor(img, cv2.COLOR_RGB2BGR)\n",
    "  # _, jpeg = cv2.imencode('.jpg', img, [int(cv2.IMWRITE_JPEG_QUALITY), 100])\n",
    "  # jpeg_comp = cv2.imdecode(jpeg, cv2.IMREAD_COLOR)\n",
    "  jpeg_resize =  cv2.resize(img, (s, s))\n",
    "  jpeg_comp = cv2.resize(jpeg_resize, (32, 32))\n",
    "  # jpeg_comp = cv2.imdecode(jpeg_comp, cv2.IMREAD_COLOR) # decode\n",
    "  jpeg_comp = cv2.cvtColor(jpeg_comp, cv2.COLOR_BGR2RGB)\n",
    "  return jpeg_comp\n",
    "\n",
    "psnr(org_img[0], jpeg_resize(org_img[0]), data_range=255)\n",
    "\n",
    "\n"
   ]
  },
  {
   "cell_type": "code",
   "execution_count": null,
   "metadata": {},
   "outputs": [],
   "source": [
    "img = cv2.cvtColor(img, cv2.COLOR_RGB2BGR)  # change color from RGB to BGR\n",
    "_, jpeg = cv2.imencode('.jpg', img, (cv2.IMWRITE_JPEG_QUALITY, 100)) # convert to jpeg\n",
    "jpeg = cv2.imdecode(jpeg, cv2.IMREAD_COLOR) # decode\n",
    "jpeg = cv2.cvtColor(jpeg, cv2.COLOR_BGR2RGB)  # change clolor from BGR to RGB"
   ]
  },
  {
   "cell_type": "code",
   "execution_count": 10,
   "metadata": {},
   "outputs": [
    {
     "name": "stderr",
     "output_type": "stream",
     "text": [
      "100%|██████████| 10000/10000 [00:03<00:00, 2873.26it/s]"
     ]
    },
    {
     "name": "stdout",
     "output_type": "stream",
     "text": [
      "k/n=0.5, data_size=1686.6498903470442Bytes, PSNR=38.816131418921216\n"
     ]
    },
    {
     "name": "stderr",
     "output_type": "stream",
     "text": [
      "\n"
     ]
    }
   ],
   "source": [
    "import cv2, statistics, tqdm\n",
    "import numpy as np\n",
    "import tensorflow as tf\n",
    "import matplotlib.pyplot as plt\n",
    "from skimage.metrics import peak_signal_noise_ratio\n",
    "\n",
    "(_, _), (org_img, _) = tf.keras.datasets.cifar10.load_data()\n",
    "org_img = org_img[:10000]\n",
    "\n",
    "n = org_img[0].size\n",
    "\n",
    "SNR = 20\n",
    "k_n = 0.5\n",
    "C = np.log2(1+SNR)\n",
    "R_max = k_n*C\n",
    "data_size_max = n*R_max/8\n",
    "\n",
    "\n",
    "def get_jpeg_size(img, quality):\n",
    "  jpeg_bytes = cv2.imencode('.jpg', img, [int(cv2.IMWRITE_JPEG_QUALITY), quality])[1].tobytes()\n",
    "\n",
    "  data_size = len(jpeg_bytes)\n",
    "  return data_size\n",
    "\n",
    "def jpeg_compression(img, quality):\n",
    "  img = cv2.cvtColor(img, cv2.COLOR_RGB2BGR)  # change color from RGB to BGR\n",
    "  _, jpeg = cv2.imencode('.jpg', img, (cv2.IMWRITE_JPEG_QUALITY, quality)) # convert to jpeg\n",
    "  jpeg = cv2.imdecode(jpeg, cv2.IMREAD_COLOR) # decode\n",
    "  jpeg = cv2.cvtColor(jpeg, cv2.COLOR_BGR2RGB)  # change clolor from BGR to RGB\n",
    "  return jpeg\n",
    "\n",
    "data_size_list = []\n",
    "data_size_avg = []\n",
    "quality = np.arange(100, -1, -1)\n",
    "quality_list = []\n",
    "jpeg_list = []\n",
    "psnr = []\n",
    "\n",
    "\n",
    "for img in tqdm.tqdm(org_img):\n",
    "  for q in quality:\n",
    "    data_size = get_jpeg_size(img, q)\n",
    "    if data_size < data_size_max:\n",
    "      data_size_list.append(data_size)\n",
    "      jpeg = jpeg_compression(img, q)\n",
    "      jpeg_list.append(jpeg)\n",
    "      psnr.append(peak_signal_noise_ratio(img, jpeg, data_range=255))\n",
    "      break\n",
    "\n",
    "\n",
    "psnr_avg = statistics.mean(psnr)\n",
    "\n",
    "print(f'k/n={k_n}, data_size={data_size_max}Bytes, PSNR={psnr_avg}')  \n",
    "  \n",
    "\n",
    "\n",
    "\n",
    "    \n",
    "\n"
   ]
  },
  {
   "cell_type": "code",
   "execution_count": 1,
   "metadata": {},
   "outputs": [],
   "source": [
    "import cv2, statistics, tqdm\n",
    "import numpy as np\n",
    "import tensorflow as tf\n",
    "import matplotlib.pyplot as plt\n",
    "from skimage.metrics import peak_signal_noise_ratio\n",
    "from PIL import Image"
   ]
  },
  {
   "cell_type": "code",
   "execution_count": 6,
   "metadata": {},
   "outputs": [
    {
     "name": "stderr",
     "output_type": "stream",
     "text": [
      "100%|██████████| 10/10 [00:25<00:00,  2.57s/it]"
     ]
    },
    {
     "name": "stdout",
     "output_type": "stream",
     "text": [
      "k/n=0.4, data_size=1349.3199122776355Bytes, PSNR=37.261605800032754\n"
     ]
    },
    {
     "name": "stderr",
     "output_type": "stream",
     "text": [
      "\n"
     ]
    }
   ],
   "source": [
    "\n",
    "\n",
    "(_, _), (org_img, _) = tf.keras.datasets.cifar10.load_data()\n",
    "org_img = org_img[:10]\n",
    "\n",
    "n = org_img[0].size\n",
    "\n",
    "SNR = 20\n",
    "k_n = 0.4\n",
    "C = np.log2(1+SNR)\n",
    "R_max = k_n*C\n",
    "data_size_max = n*R_max/4\n",
    "\n",
    "\n",
    "def get_jpeg_size(img, quality):\n",
    "  jpeg_bytes = cv2.imencode('.jp2', img, [int(cv2.IMWRITE_JPEG2000_COMPRESSION_X1000), quality])[1].tobytes()\n",
    "\n",
    "  data_size = len(jpeg_bytes)\n",
    "  return data_size\n",
    "\n",
    "def jpeg_compression(img, quality):\n",
    "  img = cv2.cvtColor(img, cv2.COLOR_RGB2BGR)  # change color from RGB to BGR\n",
    "  _, jpeg = cv2.imencode('.jp2', img, (cv2.IMWRITE_JPEG2000_COMPRESSION_X1000, quality)) # convert to jpeg\n",
    "  jpeg = cv2.imdecode(jpeg, cv2.IMREAD_COLOR) # decode\n",
    "  jpeg = cv2.cvtColor(jpeg, cv2.COLOR_BGR2RGB)  # change clolor from BGR to RGB\n",
    "  return jpeg\n",
    "\n",
    "data_size_list = []\n",
    "data_size_avg = []\n",
    "quality = np.arange(1000, -1, -1)\n",
    "quality_list = []\n",
    "jpeg_list = []\n",
    "psnr = []\n",
    "\n",
    "\n",
    "for img in tqdm.tqdm(org_img):\n",
    "  for q in quality:\n",
    "    data_size = get_jpeg_size(img, q)\n",
    "    if data_size < data_size_max:\n",
    "      data_size_list.append(data_size)\n",
    "      jpeg = jpeg_compression(img, q)\n",
    "      jpeg_list.append(jpeg)\n",
    "      psnr.append(peak_signal_noise_ratio(img, jpeg, data_range=255))\n",
    "      break\n",
    "\n",
    "\n",
    "psnr_avg = statistics.mean(psnr)\n",
    "\n",
    "print(f'k/n={k_n}, data_size={data_size_max}Bytes, PSNR={psnr_avg}')  \n",
    "  \n",
    "\n",
    "\n",
    "\n",
    "    \n",
    "\n"
   ]
  },
  {
   "cell_type": "code",
   "execution_count": 5,
   "metadata": {},
   "outputs": [
    {
     "data": {
      "image/png": "[encoded data removed]",
      "text/plain": [
       "<Figure size 1000x500 with 2 Axes>"
      ]
     },
     "metadata": {},
     "output_type": "display_data"
    }
   ],
   "source": [
    "# 結果の表示\n",
    "fig, axes = plt.subplots(1, 2, figsize=(10, 5))\n",
    "axes[0].imshow(org_img[9])\n",
    "axes[0].set_title('Original Image')\n",
    "axes[0].axis('off')\n",
    "\n",
    "axes[1].imshow(jpeg)\n",
    "axes[1].set_title(f'JPEG')\n",
    "axes[1].axis('off')\n",
    "\n",
    "plt.show()"
   ]
  },
  {
   "cell_type": "code",
   "execution_count": 15,
   "metadata": {},
   "outputs": [
    {
     "name": "stderr",
     "output_type": "stream",
     "text": [
      "100%|██████████| 10000/10000 [00:08<00:00, 1210.46it/s]"
     ]
    },
    {
     "name": "stdout",
     "output_type": "stream",
     "text": [
      "k/n=0.42, data_size=1100Bytes, PSNR=33.53147805066861\n"
     ]
    },
    {
     "name": "stderr",
     "output_type": "stream",
     "text": [
      "\n"
     ]
    }
   ],
   "source": [
    "import cv2, statistics, tqdm\n",
    "import numpy as np\n",
    "import tensorflow as tf\n",
    "import matplotlib.pyplot as plt\n",
    "from skimage.metrics import peak_signal_noise_ratio\n",
    "\n",
    "(_, _), (org_img, _) = tf.keras.datasets.cifar10.load_data()\n",
    "org_img = org_img[:10000]\n",
    "\n",
    "n = org_img[0].size\n",
    "\n",
    "SNR = 20\n",
    "k_n = 0.42\n",
    "C = np.log2(1+SNR)\n",
    "R_max = k_n*C\n",
    "data_size_max = n*R_max/8\n",
    "\n",
    "\n",
    "def get_jpeg_size(img, quality):\n",
    "  jpeg_bytes = cv2.imencode('.jpg', img, [int(cv2.IMWRITE_JPEG_QUALITY), quality])[1].tobytes()\n",
    "\n",
    "  data_size = len(jpeg_bytes)\n",
    "  return data_size\n",
    "\n",
    "def jpeg_compression(img, quality):\n",
    "  img = cv2.cvtColor(img, cv2.COLOR_RGB2BGR)  # change color from RGB to BGR\n",
    "  _, jpeg = cv2.imencode('.jpg', img, (cv2.IMWRITE_JPEG_QUALITY, quality)) # convert to jpeg\n",
    "  jpeg = cv2.imdecode(jpeg, cv2.IMREAD_UNCHANGED) # decode\n",
    "  jpeg = cv2.cvtColor(jpeg, cv2.COLOR_BGR2RGB)  # change clolor from BGR to RGB\n",
    "  return jpeg\n",
    "\n",
    "def img_destruction(img):\n",
    "  img_shape = img.shape\n",
    "  dest = np.zeros(img_shape)\n",
    "  mean = np.zeros(img_shape[2])\n",
    "  for i in range(img_shape[2]):\n",
    "    mean = statistics.mean(img[:,:,i])\n",
    "    dest[:,:,i] = np.full(img_shape[:2], mean)\n",
    "  return dest\n",
    "\n",
    "data_size_list = []\n",
    "data_size_avg = []\n",
    "quality = np.arange(100, -1, -1)\n",
    "quality_list = []\n",
    "jpeg_list = []\n",
    "psnr = []\n",
    "\n",
    "\n",
    "for img in tqdm.tqdm(org_img):\n",
    "  for q in quality:\n",
    "    data_size = get_jpeg_size(img, q)\n",
    "    if data_size < data_size_max:\n",
    "      data_size_list.append(data_size)\n",
    "      jpeg = jpeg_compression(img, q)\n",
    "      break\n",
    "    elif q == quality[-1]:\n",
    "      jpeg = img_destruction(img)\n",
    "  jpeg_list.append(jpeg)\n",
    "  psnr.append(peak_signal_noise_ratio(img, jpeg, data_range=255))\n",
    "\n",
    "\n",
    "psnr_avg = statistics.mean(psnr)\n",
    "\n",
    "print(f'k/n={k_n}, data_size={data_size_max}Bytes, PSNR={psnr_avg}')  "
   ]
  },
  {
   "cell_type": "code",
   "execution_count": 32,
   "metadata": {},
   "outputs": [
    {
     "name": "stderr",
     "output_type": "stream",
     "text": [
      "100%|██████████| 10000/10000 [00:48<00:00, 207.83it/s]\n"
     ]
    },
    {
     "name": "stdout",
     "output_type": "stream",
     "text": [
      "k/n=0.05, data_size=66.42108707783612Bytes, PSNR=14.3207772209529\n"
     ]
    },
    {
     "name": "stderr",
     "output_type": "stream",
     "text": [
      "100%|██████████| 10000/10000 [00:48<00:00, 207.58it/s]\n"
     ]
    },
    {
     "name": "stdout",
     "output_type": "stream",
     "text": [
      "k/n=0.3, data_size=398.52652246701666Bytes, PSNR=14.3207772209529\n"
     ]
    },
    {
     "name": "stderr",
     "output_type": "stream",
     "text": [
      "100%|██████████| 10000/10000 [00:46<00:00, 216.72it/s]\n"
     ]
    },
    {
     "name": "stdout",
     "output_type": "stream",
     "text": [
      "k/n=0.48, data_size=637.6424359472267Bytes, PSNR=14.3207772209529\n"
     ]
    },
    {
     "name": "stderr",
     "output_type": "stream",
     "text": [
      "100%|██████████| 10000/10000 [00:45<00:00, 220.59it/s]"
     ]
    },
    {
     "name": "stdout",
     "output_type": "stream",
     "text": [
      "k/n=0.5, data_size=664.2108707783611Bytes, PSNR=19.508709826209703\n"
     ]
    },
    {
     "name": "stderr",
     "output_type": "stream",
     "text": [
      "\n"
     ]
    }
   ],
   "source": [
    "import cv2, tqdm\n",
    "import numpy as np\n",
    "import tensorflow as tf\n",
    "import matplotlib.pyplot as plt\n",
    "from skimage.metrics import peak_signal_noise_ratio\n",
    "\n",
    "psnr_avg_list = []\n",
    "\n",
    "(_, _), (org_img, _) = tf.keras.datasets.cifar10.load_data()\n",
    "org_img = org_img[:10000]\n",
    "\n",
    "n = org_img[0].size\n",
    "\n",
    "SNR = 20\n",
    "k_n_list = [0.05, 0.1, 0.2, 0.35, 0.4, 0.45, 0.5, 0.55, 0.6, 0.65, 0.7, 0.75, 0.8]\n",
    "# k_n_list = [0.05, 0.3, 0.48, 0.5]\n",
    "C = np.log2(1+SNR)\n",
    "\n",
    "quality = np.arange(100, -1, -1)\n",
    "\n",
    "def jpeg_compression(img, quality):\n",
    "  img = cv2.cvtColor(img, cv2.COLOR_RGB2BGR)  # change color from RGB to BGR\n",
    "  _, jpeg = cv2.imencode('.jpg', img, (cv2.IMWRITE_JPEG_QUALITY, quality)) # convert to jpeg\n",
    "  jpeg = cv2.imdecode(jpeg, cv2.IMREAD_UNCHANGED) # decode\n",
    "  jpeg = cv2.cvtColor(jpeg, cv2.COLOR_BGR2RGB)  # change clolor from BGR to RGB\n",
    "  return jpeg\n",
    "\n",
    "def img_destruction(img):\n",
    "  img_shape = img.shape\n",
    "  dest = np.zeros(img_shape)\n",
    "  mean = np.zeros(img_shape[2])\n",
    "  for i in range(img_shape[2]):\n",
    "    mean = np.mean(img[:,:,i])\n",
    "    dest[:,:,i] = np.full(img_shape[:2], mean)\n",
    "  return dest\n",
    "\n",
    "for k_n in k_n_list:\n",
    "  R_max = k_n*C\n",
    "  data_size_max = n*R_max/4\n",
    "  def get_jpeg_size(img, quality):\n",
    "    jpeg_bytes = cv2.imencode('.jpg', img, [int(cv2.IMWRITE_JPEG_QUALITY), quality])[1].tobytes()\n",
    "\n",
    "    data_size = len(jpeg_bytes)\n",
    "    return data_size\n",
    "\n",
    "  \n",
    "\n",
    "  data_size_list = []\n",
    "  data_size_avg = []\n",
    "\n",
    "  quality_list = []\n",
    "  jpeg_list = []\n",
    "  psnr = []\n",
    "\n",
    "\n",
    "  for img in tqdm.tqdm(org_img):\n",
    "    for q in quality:\n",
    "      data_size = get_jpeg_size(img, q)\n",
    "      if data_size < data_size_max:\n",
    "        data_size_list.append(data_size)\n",
    "        jpeg = jpeg_compression(img, q)\n",
    "        break\n",
    "      elif q == quality[-1]:\n",
    "        jpeg = img_destruction(img)\n",
    "    jpeg_list.append(jpeg)\n",
    "    psnr.append(peak_signal_noise_ratio(img, jpeg, data_range=255))\n",
    "\n",
    "\n",
    "  psnr_avg = np.mean(psnr)\n",
    "  psnr_avg_list.append(psnr_avg)\n",
    "\n",
    "  print(f'k/n={k_n}, data_size={data_size_max}Bytes, PSNR={psnr_avg}')  \n"
   ]
  },
  {
   "cell_type": "code",
   "execution_count": 34,
   "metadata": {},
   "outputs": [
    {
     "name": "stderr",
     "output_type": "stream",
     "text": [
      "100%|██████████| 100/100 [00:00<00:00, 3013.45it/s]\n"
     ]
    },
    {
     "name": "stdout",
     "output_type": "stream",
     "text": [
      "k/n=0.05, data_size=126.49874177602833Bytes, PSNR=14.238841444532087\n"
     ]
    },
    {
     "name": "stderr",
     "output_type": "stream",
     "text": [
      "100%|██████████| 100/100 [00:00<00:00, 6460.03it/s]\n"
     ]
    },
    {
     "name": "stdout",
     "output_type": "stream",
     "text": [
      "k/n=0.08, data_size=202.39798684164532Bytes, PSNR=14.238841444532087\n"
     ]
    },
    {
     "name": "stderr",
     "output_type": "stream",
     "text": [
      "100%|██████████| 100/100 [00:00<00:00, 4400.23it/s]\n"
     ]
    },
    {
     "name": "stdout",
     "output_type": "stream",
     "text": [
      "k/n=0.16, data_size=404.79597368329064Bytes, PSNR=14.238841444532087\n"
     ]
    },
    {
     "name": "stderr",
     "output_type": "stream",
     "text": [
      "100%|██████████| 100/100 [00:00<00:00, 3590.18it/s]\n"
     ]
    },
    {
     "name": "stdout",
     "output_type": "stream",
     "text": [
      "k/n=0.2, data_size=505.9949671041133Bytes, PSNR=14.238841444532087\n"
     ]
    },
    {
     "name": "stderr",
     "output_type": "stream",
     "text": [
      "100%|██████████| 100/100 [00:00<00:00, 6287.18it/s]\n"
     ]
    },
    {
     "name": "stdout",
     "output_type": "stream",
     "text": [
      "k/n=0.25, data_size=632.4937088801416Bytes, PSNR=14.238841444532087\n"
     ]
    },
    {
     "name": "stderr",
     "output_type": "stream",
     "text": [
      "100%|██████████| 100/100 [00:00<00:00, 584.74it/s]\n"
     ]
    },
    {
     "name": "stdout",
     "output_type": "stream",
     "text": [
      "k/n=0.3, data_size=758.9924506561699Bytes, PSNR=26.241631592058308\n"
     ]
    },
    {
     "name": "stderr",
     "output_type": "stream",
     "text": [
      "100%|██████████| 100/100 [00:00<00:00, 309.32it/s]\n"
     ]
    },
    {
     "name": "stdout",
     "output_type": "stream",
     "text": [
      "k/n=0.33, data_size=834.8916957217867Bytes, PSNR=28.520701148192543\n"
     ]
    },
    {
     "name": "stderr",
     "output_type": "stream",
     "text": [
      "100%|██████████| 100/100 [00:00<00:00, 261.27it/s]\n"
     ]
    },
    {
     "name": "stdout",
     "output_type": "stream",
     "text": [
      "k/n=0.35, data_size=885.4911924321982Bytes, PSNR=29.642306846259313\n"
     ]
    },
    {
     "name": "stderr",
     "output_type": "stream",
     "text": [
      "100%|██████████| 100/100 [00:00<00:00, 164.75it/s]\n"
     ]
    },
    {
     "name": "stdout",
     "output_type": "stream",
     "text": [
      "k/n=0.4, data_size=1011.9899342082266Bytes, PSNR=31.96336813274383\n"
     ]
    },
    {
     "name": "stderr",
     "output_type": "stream",
     "text": [
      "100%|██████████| 100/100 [00:00<00:00, 223.71it/s]\n"
     ]
    },
    {
     "name": "stdout",
     "output_type": "stream",
     "text": [
      "k/n=0.42, data_size=1062.5894309186378Bytes, PSNR=32.79371592904044\n"
     ]
    },
    {
     "name": "stderr",
     "output_type": "stream",
     "text": [
      "100%|██████████| 100/100 [00:00<00:00, 217.36it/s]\n"
     ]
    },
    {
     "name": "stdout",
     "output_type": "stream",
     "text": [
      "k/n=0.45, data_size=1138.4886759842548Bytes, PSNR=33.896478533562245\n"
     ]
    },
    {
     "name": "stderr",
     "output_type": "stream",
     "text": [
      "100%|██████████| 100/100 [00:00<00:00, 212.49it/s]\n"
     ]
    },
    {
     "name": "stdout",
     "output_type": "stream",
     "text": [
      "k/n=0.48, data_size=1214.3879210498717Bytes, PSNR=34.889114196510555\n"
     ]
    },
    {
     "name": "stderr",
     "output_type": "stream",
     "text": [
      "100%|██████████| 100/100 [00:00<00:00, 193.21it/s]\n"
     ]
    },
    {
     "name": "stdout",
     "output_type": "stream",
     "text": [
      "k/n=0.5, data_size=1264.9874177602833Bytes, PSNR=35.49893152274142\n"
     ]
    },
    {
     "name": "stderr",
     "output_type": "stream",
     "text": [
      "100%|██████████| 100/100 [00:00<00:00, 194.68it/s]\n"
     ]
    },
    {
     "name": "stdout",
     "output_type": "stream",
     "text": [
      "k/n=0.55, data_size=1391.4861595363116Bytes, PSNR=36.78176641842268\n"
     ]
    },
    {
     "name": "stderr",
     "output_type": "stream",
     "text": [
      "100%|██████████| 100/100 [00:00<00:00, 183.28it/s]\n"
     ]
    },
    {
     "name": "stdout",
     "output_type": "stream",
     "text": [
      "k/n=0.6, data_size=1517.9849013123398Bytes, PSNR=37.83349343579604\n"
     ]
    },
    {
     "name": "stderr",
     "output_type": "stream",
     "text": [
      "100%|██████████| 100/100 [00:00<00:00, 142.71it/s]\n"
     ]
    },
    {
     "name": "stdout",
     "output_type": "stream",
     "text": [
      "k/n=0.65, data_size=1644.4836430883684Bytes, PSNR=38.51044656867225\n"
     ]
    },
    {
     "name": "stderr",
     "output_type": "stream",
     "text": [
      "100%|██████████| 100/100 [00:00<00:00, 186.62it/s]\n"
     ]
    },
    {
     "name": "stdout",
     "output_type": "stream",
     "text": [
      "k/n=0.7, data_size=1770.9823848643964Bytes, PSNR=38.967519253456786\n"
     ]
    },
    {
     "name": "stderr",
     "output_type": "stream",
     "text": [
      "100%|██████████| 100/100 [00:00<00:00, 178.01it/s]\n"
     ]
    },
    {
     "name": "stdout",
     "output_type": "stream",
     "text": [
      "k/n=0.75, data_size=1897.481126640425Bytes, PSNR=39.16332604526318\n"
     ]
    },
    {
     "name": "stderr",
     "output_type": "stream",
     "text": [
      "100%|██████████| 100/100 [00:00<00:00, 176.90it/s]"
     ]
    },
    {
     "name": "stdout",
     "output_type": "stream",
     "text": [
      "k/n=0.8, data_size=2023.9798684164532Bytes, PSNR=39.209915793012534\n"
     ]
    },
    {
     "name": "stderr",
     "output_type": "stream",
     "text": [
      "\n"
     ]
    }
   ],
   "source": [
    "import cv2, tqdm\n",
    "import numpy as np\n",
    "import tensorflow as tf\n",
    "import matplotlib.pyplot as plt\n",
    "from skimage.metrics import peak_signal_noise_ratio\n",
    "\n",
    "psnr_avg_list = []\n",
    "\n",
    "(_, _), (org_img, _) = tf.keras.datasets.cifar10.load_data()\n",
    "org_img = org_img[:100]\n",
    "\n",
    "n = org_img[0].size\n",
    "# n = 3200\n",
    "\n",
    "SNR = 20\n",
    "# k_n_list = [0.05, 0.1, 0.15,  0.2, 0.25, 0.3, 0.35, 0.4, 0.45, 0.5, 0.55, 0.6, 0.65, 0.7, 0.75, 0.8]\n",
    "k_n_list = [0.05, 0.08, 0.16,  0.2, 0.25, 0.3, 0.33, 0.35, 0.4, 0.42, 0.45, 0.48, 0.5, 0.55, 0.6, 0.65, 0.7, 0.75, 0.8]\n",
    "# k_n_list = [0.05, 0.2, 0.3, 0.4, 0.48]\n",
    "C = np.log2(1+SNR)\n",
    "\n",
    "quality = np.arange(0, 101, 1)\n",
    "\n",
    "def jpeg_compression(img, quality):\n",
    "  img = cv2.cvtColor(img, cv2.COLOR_RGB2BGR)  # change color from RGB to BGR\n",
    "  _, jpeg = cv2.imencode('.jpg', img, (cv2.IMWRITE_JPEG_QUALITY, quality)) # convert to jpeg\n",
    "  jpeg = cv2.imdecode(jpeg, cv2.IMREAD_UNCHANGED) # decode\n",
    "  jpeg = cv2.cvtColor(jpeg, cv2.COLOR_BGR2RGB)  # change clolor from BGR to RGB\n",
    "  return jpeg\n",
    "\n",
    "def img_destruction(img):\n",
    "  img_shape = img.shape\n",
    "  dest = np.zeros(img_shape)\n",
    "  mean = np.zeros(img_shape[2])\n",
    "  for i in range(img_shape[2]):\n",
    "    mean = np.mean(img[:,:,i])\n",
    "    dest[:,:,i] = np.full(img_shape[:2], mean)\n",
    "  return dest\n",
    "\n",
    "def get_jpeg_size(img, quality):\n",
    "    jpeg_bytes = cv2.imencode('.jpg', img, [int(cv2.IMWRITE_JPEG_QUALITY), quality])[1].tobytes()\n",
    "\n",
    "    data_size = len(jpeg_bytes)\n",
    "    return data_size\n",
    "\n",
    "for k_n in k_n_list:\n",
    "  R_max = k_n*C\n",
    "  data_size_max = n*R_max/8*1.5\n",
    "  \n",
    "\n",
    "  \n",
    "\n",
    "  data_size_list = []\n",
    "  data_size_avg = []\n",
    "\n",
    "  quality_list = []\n",
    "  jpeg_list = []\n",
    "  psnr = []\n",
    "\n",
    "\n",
    "  for img in tqdm.tqdm(org_img):\n",
    "    data_size_old = 0\n",
    "    for q in quality:\n",
    "      data_size_new = get_jpeg_size(img, q)      \n",
    "      if data_size_new > data_size_max:\n",
    "        if q == 0:\n",
    "          jpeg = img_destruction(img)\n",
    "        else:\n",
    "          data_size_list.append(data_size_old)\n",
    "          jpeg = jpeg_compression(img, q-1)\n",
    "        break\n",
    "      elif q == quality[-1]:\n",
    "        jpeg = jpeg_compression(img, q)\n",
    "      data_size_old = data_size_new\n",
    "    jpeg_list.append(jpeg)\n",
    "    psnr.append(peak_signal_noise_ratio(img, jpeg, data_range=255))\n",
    "\n",
    "\n",
    "  psnr_avg = np.mean(psnr)\n",
    "  psnr_avg_list.append(psnr_avg)\n",
    "\n",
    "  print(f'k/n={k_n}, data_size={data_size_max}Bytes, PSNR={psnr_avg}')  \n"
   ]
  },
  {
   "cell_type": "code",
   "execution_count": 53,
   "metadata": {},
   "outputs": [
    {
     "name": "stderr",
     "output_type": "stream",
     "text": [
      "100%|██████████| 100/100 [00:01<00:00, 76.59it/s]\n"
     ]
    },
    {
     "name": "stdout",
     "output_type": "stream",
     "text": [
      "k/n=0.04, data_size=168.66498903470443Bytes, PSNR=14.238841444532087\n"
     ]
    },
    {
     "name": "stderr",
     "output_type": "stream",
     "text": [
      "100%|██████████| 100/100 [00:40<00:00,  2.49it/s]\n"
     ]
    },
    {
     "name": "stdout",
     "output_type": "stream",
     "text": [
      "k/n=0.08, data_size=337.32997806940887Bytes, PSNR=18.6663407037119\n"
     ]
    },
    {
     "name": "stderr",
     "output_type": "stream",
     "text": [
      "100%|██████████| 100/100 [01:46<00:00,  1.07s/it]\n"
     ]
    },
    {
     "name": "stdout",
     "output_type": "stream",
     "text": [
      "k/n=0.16, data_size=674.6599561388177Bytes, PSNR=27.362074728495767\n"
     ]
    },
    {
     "name": "stderr",
     "output_type": "stream",
     "text": [
      "100%|██████████| 100/100 [02:53<00:00,  1.73s/it]\n"
     ]
    },
    {
     "name": "stdout",
     "output_type": "stream",
     "text": [
      "k/n=0.25, data_size=1054.1561814669026Bytes, PSNR=33.8381835806786\n"
     ]
    },
    {
     "name": "stderr",
     "output_type": "stream",
     "text": [
      "100%|██████████| 100/100 [03:50<00:00,  2.30s/it]\n"
     ]
    },
    {
     "name": "stdout",
     "output_type": "stream",
     "text": [
      "k/n=0.33, data_size=1391.4861595363113Bytes, PSNR=38.70774989100741\n"
     ]
    },
    {
     "name": "stderr",
     "output_type": "stream",
     "text": [
      "100%|██████████| 100/100 [05:23<00:00,  3.23s/it]\n"
     ]
    },
    {
     "name": "stdout",
     "output_type": "stream",
     "text": [
      "k/n=0.42, data_size=1770.9823848643964Bytes, PSNR=43.12023195474231\n"
     ]
    },
    {
     "name": "stderr",
     "output_type": "stream",
     "text": [
      "100%|██████████| 100/100 [06:21<00:00,  3.82s/it]"
     ]
    },
    {
     "name": "stdout",
     "output_type": "stream",
     "text": [
      "k/n=0.48, data_size=2023.9798684164525Bytes, PSNR=45.23423492829241\n"
     ]
    },
    {
     "name": "stderr",
     "output_type": "stream",
     "text": [
      "\n"
     ]
    }
   ],
   "source": [
    "import cv2, tqdm\n",
    "import numpy as np\n",
    "import tensorflow as tf\n",
    "import matplotlib.pyplot as plt\n",
    "from skimage.metrics import peak_signal_noise_ratio\n",
    "\n",
    "psnr_avg_list = []\n",
    "\n",
    "(_, _), (org_img, _) = tf.keras.datasets.cifar10.load_data()\n",
    "org_img = org_img[:100]\n",
    "\n",
    "n = org_img[0].size\n",
    "\n",
    "SNR = 10\n",
    "# k_n_list_c = [0.04, 0.08, 0.16, 0.25, 0.33, 0.42, 0.48]\n",
    "# k_n_list = [0.05, 0.08, 0.16,  0.2, 0.25, 0.3, 0.33, 0.35, 0.4, 0.42, 0.45, 0.48, 0.5, 0.55, 0.6, 0.65, 0.7, 0.75, 0.8]\n",
    "k_n_list = [0.04, 0.08, 0.16, 0.25, 0.33, 0.42, 0.48]\n",
    "# k_n_list = [0.05, 0.2, 0.3, 0.4, 0.48]\n",
    "C = np.log2(1+SNR)\n",
    "\n",
    "quality = np.arange(0, 1001, 1)\n",
    "\n",
    "def jpeg_compression(img, quality):\n",
    "  img = cv2.cvtColor(img, cv2.COLOR_RGB2BGR)  # change color from RGB to BGR\n",
    "  _, jpeg = cv2.imencode('.jp2', img, (cv2.IMWRITE_JPEG2000_COMPRESSION_X1000, quality)) # convert to jpeg\n",
    "  jpeg = cv2.imdecode(jpeg, cv2.IMREAD_UNCHANGED) # decode\n",
    "  jpeg = cv2.cvtColor(jpeg, cv2.COLOR_BGR2RGB)  # change clolor from BGR to RGB\n",
    "  return jpeg\n",
    "\n",
    "def img_destruction(img):\n",
    "  img_shape = img.shape\n",
    "  dest = np.zeros(img_shape)\n",
    "  mean = np.zeros(img_shape[2])\n",
    "  for i in range(img_shape[2]):\n",
    "    mean = np.mean(img[:,:,i])\n",
    "    dest[:,:,i] = np.full(img_shape[:2], mean)\n",
    "  return dest\n",
    "\n",
    "def get_jpeg_size(img, quality):\n",
    "    jpeg_bytes = cv2.imencode('.jp2', img, [int(cv2.IMWRITE_JPEG2000_COMPRESSION_X1000), quality])[1].tobytes()\n",
    "\n",
    "    data_size = len(jpeg_bytes)\n",
    "    return data_size\n",
    "\n",
    "for k_n in k_n_list:\n",
    "  R_max = k_n*C\n",
    "  data_size_max = n*R_max/8*2.5\n",
    "  \n",
    "\n",
    "  \n",
    "\n",
    "  data_size_list = []\n",
    "  data_size_avg = []\n",
    "\n",
    "  quality_list = []\n",
    "  jpeg_list = []\n",
    "  psnr = []\n",
    "\n",
    "\n",
    "  for img in tqdm.tqdm(org_img):\n",
    "    data_size_old = 0\n",
    "    for q in quality:\n",
    "      data_size_new = get_jpeg_size(img, q)      \n",
    "      if data_size_new > data_size_max:\n",
    "        if q == 0:\n",
    "          jpeg = img_destruction(img)\n",
    "        else:\n",
    "          data_size_list.append(data_size_old)\n",
    "          jpeg = jpeg_compression(img, q-1)\n",
    "        break\n",
    "      data_size_old = data_size_new\n",
    "    jpeg_list.append(jpeg)\n",
    "    psnr.append(peak_signal_noise_ratio(img, jpeg, data_range=255))\n",
    "\n",
    "\n",
    "  psnr_avg = np.mean(psnr)\n",
    "  psnr_avg_list.append(psnr_avg)\n",
    "\n",
    "  print(f'k/n={k_n}, data_size={data_size_max}Bytes, PSNR={psnr_avg}')  \n"
   ]
  },
  {
   "cell_type": "code",
   "execution_count": 54,
   "metadata": {},
   "outputs": [
    {
     "data": {
      "image/png": "[encoded data removed]",
      "text/plain": [
       "<Figure size 700x500 with 1 Axes>"
      ]
     },
     "metadata": {},
     "output_type": "display_data"
    }
   ],
   "source": [
    "k_n_list_c = [0.04, 0.08, 0.16, 0.25, 0.33, 0.42, 0.48]\n",
    "# psnr_avg_list_c = [14, 14, 14, 14, 29, 33, 35]\n",
    "# psnr_avg_list_c = [14, 14, 14, 14, 14, 14, 14]\n",
    "# psnr_avg_list_c = [14, 14, 17, 26, 30, 33, 35]\n",
    "psnr_avg_list_c = [14, 16, 30, 35, 41, 41, 46]\n",
    "\n",
    "fig = plt.figure(figsize=(7,5))\n",
    "axes = fig.add_subplot(1,1,1, title='JPEG SNR=20dB', xlabel='k/n', ylabel='PSNR(dB)')\n",
    "\n",
    "axes.plot(k_n_list_c, psnr_avg_list_c, '-', marker='o')\n",
    "axes.plot(k_n_list, psnr_avg_list, '-', marker='o')\n",
    "\n",
    "axes.legend(['論文値', '検証値'], prop={\"family\":\"MS Gothic\"})\n",
    "axes.set_ylim([10,50])\n",
    "\n",
    "plt.grid()\n",
    "\n",
    "\n",
    "plt.show()"
   ]
  },
  {
   "cell_type": "code",
   "execution_count": 5,
   "metadata": {},
   "outputs": [
    {
     "name": "stdout",
     "output_type": "stream",
     "text": [
      "0.1\n",
      "0.009493133905093801\n"
     ]
    }
   ],
   "source": [
    "import numpy as np\n",
    "\n",
    "SNR = 20\n",
    "P = 1\n",
    "scale = np.sqrt(P/10**(SNR/10))\n",
    "n = 32*32*3\n",
    "sigma_2 = 0\n",
    "for i in range(n):\n",
    "  sigma_2 += (np.random.normal(loc=0, scale=scale))**2\n",
    "\n",
    "sigma_2 = sigma_2/n\n",
    "print(scale)\n",
    "print(sigma_2)"
   ]
  },
  {
   "cell_type": "code",
   "execution_count": 32,
   "metadata": {},
   "outputs": [
    {
     "data": {
      "image/png": "[encoded data removed]",
      "text/plain": [
       "<Figure size 500x500 with 1 Axes>"
      ]
     },
     "metadata": {},
     "output_type": "display_data"
    }
   ],
   "source": [
    "import cv2, tqdm\n",
    "import numpy as np\n",
    "import tensorflow as tf\n",
    "import matplotlib.pyplot as plt\n",
    "from skimage.metrics import peak_signal_noise_ratio\n",
    "\n",
    "psnr_avg_list = []\n",
    "\n",
    "(_, _), (org_img, _) = tf.keras.datasets.cifar10.load_data()\n",
    "org_img = org_img[0]\n",
    "\n",
    "n = org_img[0].size\n",
    "\n",
    "def get_jpeg_size(img, quality):\n",
    "  jpeg_bytes = cv2.imencode('.jpg', img, [int(cv2.IMWRITE_JPEG_QUALITY), quality])[1].tobytes()\n",
    "\n",
    "  data_size = len(jpeg_bytes)\n",
    "  return data_size\n",
    "\n",
    "quality = np.arange(0, 101, 1)\n",
    "data_size = []\n",
    "for q in quality:\n",
    "  data_size.append(get_jpeg_size(org_img, q))\n",
    "\n",
    "fig = plt.figure(figsize=(5,5))\n",
    "axes = fig.add_subplot(1,1,1, title='JPEG compression', xlabel='quality', ylabel='data size(Byte)')\n",
    "\n",
    "axes.plot(quality, data_size)\n",
    "\n",
    "\n",
    "plt.grid()\n",
    "\n",
    "\n",
    "plt.show()"
   ]
  },
  {
   "cell_type": "code",
   "execution_count": null,
   "metadata": {},
   "outputs": [],
   "source": []
  }
 ],
 "metadata": {
  "kernelspec": {
   "display_name": "StudyVenv",
   "language": "python",
   "name": "python3"
  },
  "language_info": {
   "codemirror_mode": {
    "name": "ipython",
    "version": 3
   },
   "file_extension": ".py",
   "mimetype": "text/x-python",
   "name": "python",
   "nbconvert_exporter": "python",
   "pygments_lexer": "ipython3",
   "version": "3.11.7"
  }
 },
 "nbformat": 4,
 "nbformat_minor": 2
}
