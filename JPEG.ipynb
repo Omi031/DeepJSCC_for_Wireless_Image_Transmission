{
 "cells": [
  {
   "cell_type": "code",
   "execution_count": 1,
   "metadata": {},
   "outputs": [],
   "source": [
    "import numpy as np\n",
    "import cv2\n",
    "import tensorflow as tf\n",
    "from tensorflow.keras import datasets, layers, models\n",
    "from PIL import Image\n",
    "import Metrics\n",
    "import matplotlib.pyplot as plt"
   ]
  },
  {
   "cell_type": "code",
   "execution_count": 85,
   "metadata": {},
   "outputs": [],
   "source": [
    "def encode_img_jpeg(img,x):\n",
    "  img = tf.convert_to_tensor(img, dtype=tf.uint8)\n",
    "  print(img)\n",
    "  img = tf.io.encode_jpeg(img, format='rgb')\n",
    "  img = tf.image.resize(img, [x, x])\n",
    "  return img\n"
   ]
  },
  {
   "cell_type": "code",
   "execution_count": 81,
   "metadata": {},
   "outputs": [
    {
     "name": "stdout",
     "output_type": "stream",
     "text": [
      "[[[158 112  49]\n",
      "  [159 111  47]\n",
      "  [165 116  51]\n",
      "  ...\n",
      "  [137  95  36]\n",
      "  [126  91  36]\n",
      "  [116  85  33]]\n",
      "\n",
      " [[152 112  51]\n",
      "  [151 110  40]\n",
      "  [159 114  45]\n",
      "  ...\n",
      "  [136  95  31]\n",
      "  [125  91  32]\n",
      "  [119  88  34]]\n",
      "\n",
      " [[151 110  47]\n",
      "  [151 109  33]\n",
      "  [158 111  36]\n",
      "  ...\n",
      "  [139  98  34]\n",
      "  [130  95  34]\n",
      "  [120  89  33]]\n",
      "\n",
      " ...\n",
      "\n",
      " [[ 68 124 177]\n",
      "  [ 42 100 148]\n",
      "  [ 31  88 137]\n",
      "  ...\n",
      "  [ 38  97 146]\n",
      "  [ 13  64 108]\n",
      "  [ 40  85 127]]\n",
      "\n",
      " [[ 61 116 168]\n",
      "  [ 49 102 148]\n",
      "  [ 35  85 132]\n",
      "  ...\n",
      "  [ 26  82 130]\n",
      "  [ 29  82 126]\n",
      "  [ 20  64 107]]\n",
      "\n",
      " [[ 54 107 160]\n",
      "  [ 56 105 149]\n",
      "  [ 45  89 132]\n",
      "  ...\n",
      "  [ 24  77 124]\n",
      "  [ 34  84 129]\n",
      "  [ 21  67 110]]]\n"
     ]
    }
   ],
   "source": [
    "(_, _), (test_images, _) = datasets.cifar10.load_data()\n",
    "test_images = test_images[:10000]\n",
    "# test_images = test_images.astype('float32') / 255.0\n",
    "img_size = test_images.shape[1:]\n",
    "print(test_images[0])"
   ]
  },
  {
   "cell_type": "code",
   "execution_count": 52,
   "metadata": {},
   "outputs": [],
   "source": [
    "SNR = 20\n",
    "x = 16\n",
    "k = x**2*3\n",
    "n = np.prod(img_size)\n",
    "k_n = k/n\n",
    "\n",
    "decode_img = []"
   ]
  },
  {
   "cell_type": "code",
   "execution_count": 91,
   "metadata": {},
   "outputs": [],
   "source": [
    "img_pil = Image.fromarray(test_images[0].astype('uint8'))\n",
    "\n",
    "img_pil.save('j.jpeg', format='JPEG', quality=0)"
   ]
  },
  {
   "cell_type": "code",
   "execution_count": 86,
   "metadata": {},
   "outputs": [
    {
     "name": "stdout",
     "output_type": "stream",
     "text": [
      "tf.Tensor(\n",
      "[[[158 112  49]\n",
      "  [159 111  47]\n",
      "  [165 116  51]\n",
      "  ...\n",
      "  [137  95  36]\n",
      "  [126  91  36]\n",
      "  [116  85  33]]\n",
      "\n",
      " [[152 112  51]\n",
      "  [151 110  40]\n",
      "  [159 114  45]\n",
      "  ...\n",
      "  [136  95  31]\n",
      "  [125  91  32]\n",
      "  [119  88  34]]\n",
      "\n",
      " [[151 110  47]\n",
      "  [151 109  33]\n",
      "  [158 111  36]\n",
      "  ...\n",
      "  [139  98  34]\n",
      "  [130  95  34]\n",
      "  [120  89  33]]\n",
      "\n",
      " ...\n",
      "\n",
      " [[ 68 124 177]\n",
      "  [ 42 100 148]\n",
      "  [ 31  88 137]\n",
      "  ...\n",
      "  [ 38  97 146]\n",
      "  [ 13  64 108]\n",
      "  [ 40  85 127]]\n",
      "\n",
      " [[ 61 116 168]\n",
      "  [ 49 102 148]\n",
      "  [ 35  85 132]\n",
      "  ...\n",
      "  [ 26  82 130]\n",
      "  [ 29  82 126]\n",
      "  [ 20  64 107]]\n",
      "\n",
      " [[ 54 107 160]\n",
      "  [ 56 105 149]\n",
      "  [ 45  89 132]\n",
      "  ...\n",
      "  [ 24  77 124]\n",
      "  [ 34  84 129]\n",
      "  [ 21  67 110]]], shape=(32, 32, 3), dtype=uint8)\n"
     ]
    },
    {
     "ename": "ValueError",
     "evalue": "'images' must have either 3 or 4 dimensions.",
     "output_type": "error",
     "traceback": [
      "\u001b[1;31m---------------------------------------------------------------------------\u001b[0m",
      "\u001b[1;31mValueError\u001b[0m                                Traceback (most recent call last)",
      "Cell \u001b[1;32mIn[86], line 1\u001b[0m\n\u001b[1;32m----> 1\u001b[0m encode_img \u001b[38;5;241m=\u001b[39m \u001b[43mencode_img_jpeg\u001b[49m\u001b[43m(\u001b[49m\u001b[43mtest_images\u001b[49m\u001b[43m[\u001b[49m\u001b[38;5;241;43m0\u001b[39;49m\u001b[43m]\u001b[49m\u001b[43m,\u001b[49m\u001b[43m \u001b[49m\u001b[43mx\u001b[49m\u001b[43m)\u001b[49m\n\u001b[0;32m      3\u001b[0m \u001b[38;5;28mprint\u001b[39m(encode_img\u001b[38;5;241m.\u001b[39mnumpy())\n",
      "Cell \u001b[1;32mIn[85], line 5\u001b[0m, in \u001b[0;36mencode_img_jpeg\u001b[1;34m(img, x)\u001b[0m\n\u001b[0;32m      3\u001b[0m \u001b[38;5;28mprint\u001b[39m(img)\n\u001b[0;32m      4\u001b[0m img \u001b[38;5;241m=\u001b[39m tf\u001b[38;5;241m.\u001b[39mio\u001b[38;5;241m.\u001b[39mencode_jpeg(img, \u001b[38;5;28mformat\u001b[39m\u001b[38;5;241m=\u001b[39m\u001b[38;5;124m'\u001b[39m\u001b[38;5;124mrgb\u001b[39m\u001b[38;5;124m'\u001b[39m)\n\u001b[1;32m----> 5\u001b[0m img \u001b[38;5;241m=\u001b[39m \u001b[43mtf\u001b[49m\u001b[38;5;241;43m.\u001b[39;49m\u001b[43mimage\u001b[49m\u001b[38;5;241;43m.\u001b[39;49m\u001b[43mresize\u001b[49m\u001b[43m(\u001b[49m\u001b[43mimg\u001b[49m\u001b[43m,\u001b[49m\u001b[43m \u001b[49m\u001b[43m[\u001b[49m\u001b[43mx\u001b[49m\u001b[43m,\u001b[49m\u001b[43m \u001b[49m\u001b[43mx\u001b[49m\u001b[43m]\u001b[49m\u001b[43m)\u001b[49m\n\u001b[0;32m      6\u001b[0m \u001b[38;5;28;01mreturn\u001b[39;00m img\n",
      "File \u001b[1;32mc:\\Users\\naoki\\PythonVenv\\StudyVenv\\Lib\\site-packages\\tensorflow\\python\\util\\traceback_utils.py:153\u001b[0m, in \u001b[0;36mfilter_traceback.<locals>.error_handler\u001b[1;34m(*args, **kwargs)\u001b[0m\n\u001b[0;32m    151\u001b[0m \u001b[38;5;28;01mexcept\u001b[39;00m \u001b[38;5;167;01mException\u001b[39;00m \u001b[38;5;28;01mas\u001b[39;00m e:\n\u001b[0;32m    152\u001b[0m   filtered_tb \u001b[38;5;241m=\u001b[39m _process_traceback_frames(e\u001b[38;5;241m.\u001b[39m__traceback__)\n\u001b[1;32m--> 153\u001b[0m   \u001b[38;5;28;01mraise\u001b[39;00m e\u001b[38;5;241m.\u001b[39mwith_traceback(filtered_tb) \u001b[38;5;28;01mfrom\u001b[39;00m \u001b[38;5;28;01mNone\u001b[39;00m\n\u001b[0;32m    154\u001b[0m \u001b[38;5;28;01mfinally\u001b[39;00m:\n\u001b[0;32m    155\u001b[0m   \u001b[38;5;28;01mdel\u001b[39;00m filtered_tb\n",
      "File \u001b[1;32mc:\\Users\\naoki\\PythonVenv\\StudyVenv\\Lib\\site-packages\\tensorflow\\python\\ops\\image_ops_impl.py:1468\u001b[0m, in \u001b[0;36m_resize_images_common\u001b[1;34m(images, resizer_fn, size, preserve_aspect_ratio, name, skip_resize_if_same)\u001b[0m\n\u001b[0;32m   1466\u001b[0m   images \u001b[38;5;241m=\u001b[39m array_ops\u001b[38;5;241m.\u001b[39mexpand_dims(images, \u001b[38;5;241m0\u001b[39m)\n\u001b[0;32m   1467\u001b[0m \u001b[38;5;28;01melif\u001b[39;00m images\u001b[38;5;241m.\u001b[39mget_shape()\u001b[38;5;241m.\u001b[39mndims \u001b[38;5;241m!=\u001b[39m \u001b[38;5;241m4\u001b[39m:\n\u001b[1;32m-> 1468\u001b[0m   \u001b[38;5;28;01mraise\u001b[39;00m \u001b[38;5;167;01mValueError\u001b[39;00m(\u001b[38;5;124m'\u001b[39m\u001b[38;5;130;01m\\'\u001b[39;00m\u001b[38;5;124mimages\u001b[39m\u001b[38;5;130;01m\\'\u001b[39;00m\u001b[38;5;124m must have either 3 or 4 dimensions.\u001b[39m\u001b[38;5;124m'\u001b[39m)\n\u001b[0;32m   1470\u001b[0m _, height, width, _ \u001b[38;5;241m=\u001b[39m images\u001b[38;5;241m.\u001b[39mget_shape()\u001b[38;5;241m.\u001b[39mas_list()\n\u001b[0;32m   1472\u001b[0m \u001b[38;5;28;01mtry\u001b[39;00m:\n",
      "\u001b[1;31mValueError\u001b[0m: 'images' must have either 3 or 4 dimensions."
     ]
    }
   ],
   "source": [
    "encode_img = encode_img_jpeg(test_images[0], x)\n",
    "\n",
    "print(encode_img.numpy())"
   ]
  },
  {
   "cell_type": "code",
   "execution_count": 55,
   "metadata": {},
   "outputs": [
    {
     "ename": "ValueError",
     "evalue": "Tensor conversion requested dtype string for Tensor with dtype uint8: <tf.Tensor: shape=(32, 32, 3), dtype=uint8, numpy=\narray([[[158, 112,  49],\n        [159, 111,  47],\n        [165, 116,  51],\n        ...,\n        [137,  95,  36],\n        [126,  91,  36],\n        [116,  85,  33]],\n\n       [[152, 112,  51],\n        [151, 110,  40],\n        [159, 114,  45],\n        ...,\n        [136,  95,  31],\n        [125,  91,  32],\n        [119,  88,  34]],\n\n       [[151, 110,  47],\n        [151, 109,  33],\n        [158, 111,  36],\n        ...,\n        [139,  98,  34],\n        [130,  95,  34],\n        [120,  89,  33]],\n\n       ...,\n\n       [[ 68, 124, 177],\n        [ 42, 100, 148],\n        [ 31,  88, 137],\n        ...,\n        [ 38,  97, 146],\n        [ 13,  64, 108],\n        [ 40,  85, 127]],\n\n       [[ 61, 116, 168],\n        [ 49, 102, 148],\n        [ 35,  85, 132],\n        ...,\n        [ 26,  82, 130],\n        [ 29,  82, 126],\n        [ 20,  64, 107]],\n\n       [[ 54, 107, 160],\n        [ 56, 105, 149],\n        [ 45,  89, 132],\n        ...,\n        [ 24,  77, 124],\n        [ 34,  84, 129],\n        [ 21,  67, 110]]], dtype=uint8)>",
     "output_type": "error",
     "traceback": [
      "\u001b[1;31m---------------------------------------------------------------------------\u001b[0m",
      "\u001b[1;31mValueError\u001b[0m                                Traceback (most recent call last)",
      "Cell \u001b[1;32mIn[55], line 2\u001b[0m\n\u001b[0;32m      1\u001b[0m \u001b[38;5;28;01mfor\u001b[39;00m test_image \u001b[38;5;129;01min\u001b[39;00m test_images:\n\u001b[1;32m----> 2\u001b[0m   decode_img\u001b[38;5;241m.\u001b[39mappend(\u001b[43mdecode_img_jpeg\u001b[49m\u001b[43m(\u001b[49m\u001b[43mtest_image\u001b[49m\u001b[43m,\u001b[49m\u001b[43m \u001b[49m\u001b[43mx\u001b[49m\u001b[43m)\u001b[49m)\n",
      "Cell \u001b[1;32mIn[54], line 3\u001b[0m, in \u001b[0;36mdecode_img_jpeg\u001b[1;34m(img, x)\u001b[0m\n\u001b[0;32m      1\u001b[0m \u001b[38;5;28;01mdef\u001b[39;00m \u001b[38;5;21mdecode_img_jpeg\u001b[39m(img,x):\n\u001b[0;32m      2\u001b[0m   img \u001b[38;5;241m=\u001b[39m tf\u001b[38;5;241m.\u001b[39mconvert_to_tensor(img, dtype\u001b[38;5;241m=\u001b[39mtf\u001b[38;5;241m.\u001b[39muint8)\n\u001b[1;32m----> 3\u001b[0m   img \u001b[38;5;241m=\u001b[39m \u001b[43mtf\u001b[49m\u001b[38;5;241;43m.\u001b[39;49m\u001b[43mio\u001b[49m\u001b[38;5;241;43m.\u001b[39;49m\u001b[43mdecode_jpeg\u001b[49m\u001b[43m(\u001b[49m\u001b[43mimg\u001b[49m\u001b[43m,\u001b[49m\u001b[43m \u001b[49m\u001b[43mchannels\u001b[49m\u001b[38;5;241;43m=\u001b[39;49m\u001b[38;5;241;43m3\u001b[39;49m\u001b[43m)\u001b[49m\n\u001b[0;32m      4\u001b[0m   img \u001b[38;5;241m=\u001b[39m tf\u001b[38;5;241m.\u001b[39mimage\u001b[38;5;241m.\u001b[39mresize(img, [x, x])\n\u001b[0;32m      5\u001b[0m   \u001b[38;5;28;01mreturn\u001b[39;00m img\n",
      "File \u001b[1;32mc:\\Users\\naoki\\PythonVenv\\StudyVenv\\Lib\\site-packages\\tensorflow\\python\\util\\traceback_utils.py:153\u001b[0m, in \u001b[0;36mfilter_traceback.<locals>.error_handler\u001b[1;34m(*args, **kwargs)\u001b[0m\n\u001b[0;32m    151\u001b[0m \u001b[38;5;28;01mexcept\u001b[39;00m \u001b[38;5;167;01mException\u001b[39;00m \u001b[38;5;28;01mas\u001b[39;00m e:\n\u001b[0;32m    152\u001b[0m   filtered_tb \u001b[38;5;241m=\u001b[39m _process_traceback_frames(e\u001b[38;5;241m.\u001b[39m__traceback__)\n\u001b[1;32m--> 153\u001b[0m   \u001b[38;5;28;01mraise\u001b[39;00m e\u001b[38;5;241m.\u001b[39mwith_traceback(filtered_tb) \u001b[38;5;28;01mfrom\u001b[39;00m \u001b[38;5;28;01mNone\u001b[39;00m\n\u001b[0;32m    154\u001b[0m \u001b[38;5;28;01mfinally\u001b[39;00m:\n\u001b[0;32m    155\u001b[0m   \u001b[38;5;28;01mdel\u001b[39;00m filtered_tb\n",
      "File \u001b[1;32mc:\\Users\\naoki\\PythonVenv\\StudyVenv\\Lib\\site-packages\\tensorflow\\python\\framework\\tensor.py:761\u001b[0m, in \u001b[0;36mTensor.__tf_tensor__\u001b[1;34m(self, dtype, name)\u001b[0m\n\u001b[0;32m    757\u001b[0m \u001b[38;5;28;01mdef\u001b[39;00m \u001b[38;5;21m__tf_tensor__\u001b[39m(\n\u001b[0;32m    758\u001b[0m     \u001b[38;5;28mself\u001b[39m, dtype: Optional[dtypes\u001b[38;5;241m.\u001b[39mDType] \u001b[38;5;241m=\u001b[39m \u001b[38;5;28;01mNone\u001b[39;00m, name: Optional[\u001b[38;5;28mstr\u001b[39m] \u001b[38;5;241m=\u001b[39m \u001b[38;5;28;01mNone\u001b[39;00m\n\u001b[0;32m    759\u001b[0m     ) \u001b[38;5;241m-\u001b[39m\u001b[38;5;241m>\u001b[39m \u001b[38;5;124m\"\u001b[39m\u001b[38;5;124mTensor\u001b[39m\u001b[38;5;124m\"\u001b[39m:\n\u001b[0;32m    760\u001b[0m   \u001b[38;5;28;01mif\u001b[39;00m dtype \u001b[38;5;129;01mis\u001b[39;00m \u001b[38;5;129;01mnot\u001b[39;00m \u001b[38;5;28;01mNone\u001b[39;00m \u001b[38;5;129;01mand\u001b[39;00m \u001b[38;5;129;01mnot\u001b[39;00m dtype\u001b[38;5;241m.\u001b[39mis_compatible_with(\u001b[38;5;28mself\u001b[39m\u001b[38;5;241m.\u001b[39mdtype):\n\u001b[1;32m--> 761\u001b[0m     \u001b[38;5;28;01mraise\u001b[39;00m \u001b[38;5;167;01mValueError\u001b[39;00m(\n\u001b[0;32m    762\u001b[0m         _add_error_prefix(\n\u001b[0;32m    763\u001b[0m             \u001b[38;5;124mf\u001b[39m\u001b[38;5;124m\"\u001b[39m\u001b[38;5;124mTensor conversion requested dtype \u001b[39m\u001b[38;5;132;01m{\u001b[39;00mdtype\u001b[38;5;241m.\u001b[39mname\u001b[38;5;132;01m}\u001b[39;00m\u001b[38;5;124m \u001b[39m\u001b[38;5;124m\"\u001b[39m\n\u001b[0;32m    764\u001b[0m             \u001b[38;5;124mf\u001b[39m\u001b[38;5;124m\"\u001b[39m\u001b[38;5;124mfor Tensor with dtype \u001b[39m\u001b[38;5;132;01m{\u001b[39;00m\u001b[38;5;28mself\u001b[39m\u001b[38;5;241m.\u001b[39mdtype\u001b[38;5;241m.\u001b[39mname\u001b[38;5;132;01m}\u001b[39;00m\u001b[38;5;124m: \u001b[39m\u001b[38;5;132;01m{\u001b[39;00m\u001b[38;5;28mself\u001b[39m\u001b[38;5;132;01m!r}\u001b[39;00m\u001b[38;5;124m\"\u001b[39m,\n\u001b[0;32m    765\u001b[0m             name\u001b[38;5;241m=\u001b[39mname))\n\u001b[0;32m    766\u001b[0m   \u001b[38;5;28;01mreturn\u001b[39;00m \u001b[38;5;28mself\u001b[39m\n",
      "\u001b[1;31mValueError\u001b[0m: Tensor conversion requested dtype string for Tensor with dtype uint8: <tf.Tensor: shape=(32, 32, 3), dtype=uint8, numpy=\narray([[[158, 112,  49],\n        [159, 111,  47],\n        [165, 116,  51],\n        ...,\n        [137,  95,  36],\n        [126,  91,  36],\n        [116,  85,  33]],\n\n       [[152, 112,  51],\n        [151, 110,  40],\n        [159, 114,  45],\n        ...,\n        [136,  95,  31],\n        [125,  91,  32],\n        [119,  88,  34]],\n\n       [[151, 110,  47],\n        [151, 109,  33],\n        [158, 111,  36],\n        ...,\n        [139,  98,  34],\n        [130,  95,  34],\n        [120,  89,  33]],\n\n       ...,\n\n       [[ 68, 124, 177],\n        [ 42, 100, 148],\n        [ 31,  88, 137],\n        ...,\n        [ 38,  97, 146],\n        [ 13,  64, 108],\n        [ 40,  85, 127]],\n\n       [[ 61, 116, 168],\n        [ 49, 102, 148],\n        [ 35,  85, 132],\n        ...,\n        [ 26,  82, 130],\n        [ 29,  82, 126],\n        [ 20,  64, 107]],\n\n       [[ 54, 107, 160],\n        [ 56, 105, 149],\n        [ 45,  89, 132],\n        ...,\n        [ 24,  77, 124],\n        [ 34,  84, 129],\n        [ 21,  67, 110]]], dtype=uint8)>"
     ]
    }
   ],
   "source": [
    "for test_image in test_images:\n",
    "  encode_img.append(encode_img_jpeg(test_image, x))"
   ]
  },
  {
   "cell_type": "code",
   "execution_count": 8,
   "metadata": {},
   "outputs": [
    {
     "name": "stdout",
     "output_type": "stream",
     "text": [
      "10.0594463\n"
     ]
    }
   ],
   "source": [
    "tf.print(Metrics.PSNR(train_images[0], train_images[1]))"
   ]
  },
  {
   "cell_type": "code",
   "execution_count": 3,
   "metadata": {},
   "outputs": [],
   "source": [
    "(_, _), (test_images, _) = datasets.cifar10.load_data()\n",
    "test_images = test_images[:10000]\n",
    "img_size = test_images.shape[1:]"
   ]
  },
  {
   "cell_type": "code",
   "execution_count": null,
   "metadata": {},
   "outputs": [],
   "source": []
  },
  {
   "cell_type": "code",
   "execution_count": null,
   "metadata": {},
   "outputs": [],
   "source": []
  },
  {
   "cell_type": "code",
   "execution_count": 24,
   "metadata": {},
   "outputs": [
    {
     "name": "stdout",
     "output_type": "stream",
     "text": [
      "0.01\n",
      "1.7157489932729535\n",
      "85\n",
      "0.390625\n"
     ]
    }
   ],
   "source": [
    "SNR = 20\n",
    "P = 1\n",
    "N = P/10**(SNR/10)\n",
    "C = np.log2(1+SNR)\n",
    "x = 20\n",
    "k = x**2*3\n",
    "n = np.prod(img_size)\n",
    "k_n = k/n\n",
    "R_max = k/n*C\n",
    "R = R_max\n",
    "if R > 1:\n",
    "  Q = 0.5*R\n",
    "else:\n",
    "  Q=1-0.5/R\n",
    "Q = int(Q*100)\n",
    "print(N)\n",
    "print(R_max)\n",
    "print(Q)\n",
    "print(k_n)"
   ]
  },
  {
   "cell_type": "code",
   "execution_count": 29,
   "metadata": {},
   "outputs": [],
   "source": [
    "def compress_image(image, quality):\n",
    "  # image = cv2.cvtColor(image, cv2.COLOR_RGB2BGR)\n",
    "  encode_param = [int(cv2.IMWRITE_JPEG_QUALITY), quality]\n",
    "  result, encimg = cv2.imencode('.jpeg', image, encode_param)\n",
    "  if not result:\n",
    "    print('could not encode image!')\n",
    "    return None\n",
    "  decimg = cv2.imdecode(encimg, 1)\n",
    "  # decimg = cv2.imdecode(encimg, cv2.IMREAD_COLOR)\n",
    "  # decimg = cv2.cvtColor(decimg, cv2.COLOR_BGR2RGB)\n",
    "  return decimg"
   ]
  },
  {
   "cell_type": "code",
   "execution_count": 30,
   "metadata": {},
   "outputs": [],
   "source": [
    "PSNR = []\n",
    "for test_image in test_images:\n",
    "  decode_img = compress_image(test_image, Q)\n",
    "  decode_img = decode_img/255.0\n",
    "  # print(np.mean(decode_img))\n",
    "  P = np.mean(decode_img)\n",
    "  N = P/10**(SNR/10)\n",
    "  # noise = np.random.normal(0, np.sqrt(N), decode_img.shape)\n",
    "  # print(noise)\n",
    "  # decode_img = decode_img + noise\n",
    "  # decode_img[decode_img > 1] = 1\n",
    "  # decode_img[decode_img < 0] = 0\n",
    "  test_image = test_image/255.0\n",
    "  PSNR.append(Metrics.PSNR(decode_img, test_image))"
   ]
  },
  {
   "cell_type": "code",
   "execution_count": 31,
   "metadata": {},
   "outputs": [
    {
     "name": "stdout",
     "output_type": "stream",
     "text": [
      "tf.Tensor(32.246025, shape=(), dtype=float32)\n"
     ]
    }
   ],
   "source": [
    "PSNR_avg = sum(PSNR)/len(PSNR)\n",
    "print(PSNR_avg)"
   ]
  },
  {
   "cell_type": "code",
   "execution_count": 32,
   "metadata": {},
   "outputs": [
    {
     "data": {
      "image/png": "[encoded data removed]",
      "text/plain": [
       "<Figure size 1000x500 with 2 Axes>"
      ]
     },
     "metadata": {},
     "output_type": "display_data"
    }
   ],
   "source": [
    "# 結果の表示\n",
    "fig, axes = plt.subplots(1, 2, figsize=(10, 5))\n",
    "axes[0].imshow(test_images[9999])\n",
    "axes[0].set_title('Original Image')\n",
    "axes[0].axis('off')\n",
    "\n",
    "axes[1].imshow(decode_img)\n",
    "axes[1].set_title(f'Compressed Image (R_max={R_max})')\n",
    "axes[1].axis('off')\n",
    "\n",
    "plt.show()"
   ]
  },
  {
   "cell_type": "code",
   "execution_count": 77,
   "metadata": {},
   "outputs": [
    {
     "name": "stdout",
     "output_type": "stream",
     "text": [
      "30.5848961\n"
     ]
    }
   ],
   "source": [
    "decode_img = decode_img/255.0\n",
    "test_image = test_images[0]/255.0\n",
    "\n",
    "tf.print(Metrics.PSNR(decode_img, test_images[0]))"
   ]
  },
  {
   "cell_type": "code",
   "execution_count": 53,
   "metadata": {},
   "outputs": [
    {
     "data": {
      "image/png": "[encoded data removed]",
      "text/plain": [
       "<Figure size 1500x500 with 3 Axes>"
      ]
     },
     "metadata": {},
     "output_type": "display_data"
    }
   ],
   "source": [
    "import cv2\n",
    "import numpy as np\n",
    "import matplotlib.pyplot as plt\n",
    "from tensorflow.keras.datasets import cifar10\n",
    "from skimage.metrics import peak_signal_noise_ratio as psnr\n",
    "\n",
    "# CIFAR-10データセットの読み込み\n",
    "(x_train, y_train), (x_test, y_test) = cifar10.load_data()\n",
    "\n",
    "# 最初の画像を取得\n",
    "original_image = x_train[0]\n",
    "\n",
    "# JPEGで圧縮\n",
    "def compress_image(image, quality):\n",
    "    image = cv2.cvtColor(image, cv2.COLOR_RGB2BGR)\n",
    "    encode_param = [int(cv2.IMWRITE_JPEG_QUALITY), quality]\n",
    "    is_success, encimg = cv2.imencode('.jpg', image, encode_param)\n",
    "    if not is_success:\n",
    "        print('could not encode image!')\n",
    "        return None\n",
    "    decimg = cv2.imdecode(encimg, cv2.IMREAD_COLOR)\n",
    "    decimg = cv2.cvtColor(decimg, cv2.COLOR_BGR2RGB)\n",
    "    return decimg\n",
    "\n",
    "# AWGNノイズを追加\n",
    "def add_awgn_noise(image, noise_std_dev):\n",
    "    row, col, ch = image.shape\n",
    "    mean = 0\n",
    "    gauss = np.random.normal(mean, noise_std_dev, (row, col, ch))\n",
    "    noisy = image + gauss\n",
    "    noisy = np.clip(noisy, 0, 255)\n",
    "    return noisy.astype(np.uint8)\n",
    "\n",
    "# PSNRを計算\n",
    "def calculate_psnr(original, compressed):\n",
    "    return psnr(original, compressed, data_range=255)\n",
    "\n",
    "# 圧縮レートを指定\n",
    "quality = 50  # 圧縮レートを指定 (例: 50)\n",
    "compressed_image = compress_image(original_image, quality)\n",
    "\n",
    "# ノイズの標準偏差を指定してノイズを追加\n",
    "noise_std_dev = 20\n",
    "noisy_image = add_awgn_noise(compressed_image, noise_std_dev)\n",
    "\n",
    "# PSNRの計算\n",
    "psnr_compressed = calculate_psnr(original_image, compressed_image)\n",
    "psnr_noisy = calculate_psnr(original_image, noisy_image)\n",
    "\n",
    "# 結果の表示\n",
    "fig, axes = plt.subplots(1, 3, figsize=(15, 5))\n",
    "axes[0].imshow(original_image)\n",
    "axes[0].set_title('Original Image')\n",
    "axes[0].axis('off')\n",
    "\n",
    "axes[1].imshow(compressed_image)\n",
    "axes[1].set_title(f'Compressed Image\\n(PSNR={psnr_compressed:.2f})')\n",
    "axes[1].axis('off')\n",
    "\n",
    "axes[2].imshow(noisy_image)\n",
    "axes[2].set_title(f'Noisy Image\\n(PSNR={psnr_noisy:.2f})')\n",
    "axes[2].axis('off')\n",
    "\n",
    "plt.show()\n"
   ]
  },
  {
   "cell_type": "code",
   "execution_count": null,
   "metadata": {},
   "outputs": [],
   "source": []
  }
 ],
 "metadata": {
  "kernelspec": {
   "display_name": "StudyVenv",
   "language": "python",
   "name": "python3"
  },
  "language_info": {
   "codemirror_mode": {
    "name": "ipython",
    "version": 3
   },
   "file_extension": ".py",
   "mimetype": "text/x-python",
   "name": "python",
   "nbconvert_exporter": "python",
   "pygments_lexer": "ipython3",
   "version": "3.11.7"
  }
 },
 "nbformat": 4,
 "nbformat_minor": 2
}
