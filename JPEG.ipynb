{
 "cells": [
  {
   "cell_type": "code",
   "execution_count": 2,
   "metadata": {},
   "outputs": [],
   "source": [
    "import numpy as np\n",
    "import cv2\n",
    "import tensorflow as tf\n",
    "from tensorflow.keras import datasets, layers, models\n",
    "from PIL import Image\n",
    "import Metrics\n",
    "import matplotlib.pyplot as plt"
   ]
  },
  {
   "cell_type": "code",
   "execution_count": 85,
   "metadata": {},
   "outputs": [],
   "source": [
    "def encode_img_jpeg(img,x):\n",
    "  img = tf.convert_to_tensor(img, dtype=tf.uint8)\n",
    "  print(img)\n",
    "  img = tf.io.encode_jpeg(img, format='rgb')\n",
    "  img = tf.image.resize(img, [x, x])\n",
    "  return img\n"
   ]
  },
  {
   "cell_type": "code",
   "execution_count": 4,
   "metadata": {},
   "outputs": [
    {
     "name": "stdout",
     "output_type": "stream",
     "text": [
      "[[[158 112  49]\n",
      "  [159 111  47]\n",
      "  [165 116  51]\n",
      "  ...\n",
      "  [137  95  36]\n",
      "  [126  91  36]\n",
      "  [116  85  33]]\n",
      "\n",
      " [[152 112  51]\n",
      "  [151 110  40]\n",
      "  [159 114  45]\n",
      "  ...\n",
      "  [136  95  31]\n",
      "  [125  91  32]\n",
      "  [119  88  34]]\n",
      "\n",
      " [[151 110  47]\n",
      "  [151 109  33]\n",
      "  [158 111  36]\n",
      "  ...\n",
      "  [139  98  34]\n",
      "  [130  95  34]\n",
      "  [120  89  33]]\n",
      "\n",
      " ...\n",
      "\n",
      " [[ 68 124 177]\n",
      "  [ 42 100 148]\n",
      "  [ 31  88 137]\n",
      "  ...\n",
      "  [ 38  97 146]\n",
      "  [ 13  64 108]\n",
      "  [ 40  85 127]]\n",
      "\n",
      " [[ 61 116 168]\n",
      "  [ 49 102 148]\n",
      "  [ 35  85 132]\n",
      "  ...\n",
      "  [ 26  82 130]\n",
      "  [ 29  82 126]\n",
      "  [ 20  64 107]]\n",
      "\n",
      " [[ 54 107 160]\n",
      "  [ 56 105 149]\n",
      "  [ 45  89 132]\n",
      "  ...\n",
      "  [ 24  77 124]\n",
      "  [ 34  84 129]\n",
      "  [ 21  67 110]]]\n"
     ]
    }
   ],
   "source": [
    "(_, _), (test_images, _) = datasets.cifar10.load_data()\n",
    "test_images = test_images[:10000]\n",
    "# test_images = test_images.astype('float32') / 255.0\n",
    "img_size = test_images.shape[1:]\n",
    "print(test_images[0])"
   ]
  },
  {
   "cell_type": "code",
   "execution_count": 5,
   "metadata": {},
   "outputs": [],
   "source": [
    "SNR = 20\n",
    "x = 16\n",
    "k = x**2*3\n",
    "n = np.prod(img_size)\n",
    "k_n = k/n\n",
    "\n",
    "decode_img = []"
   ]
  },
  {
   "cell_type": "code",
   "execution_count": 91,
   "metadata": {},
   "outputs": [],
   "source": [
    "img_pil = Image.fromarray(test_images[0].astype('uint8'))\n",
    "\n",
    "img_pil.save('j.jpeg', format='JPEG', quality=0)"
   ]
  },
  {
   "cell_type": "code",
   "execution_count": 86,
   "metadata": {},
   "outputs": [
    {
     "name": "stdout",
     "output_type": "stream",
     "text": [
      "tf.Tensor(\n",
      "[[[158 112  49]\n",
      "  [159 111  47]\n",
      "  [165 116  51]\n",
      "  ...\n",
      "  [137  95  36]\n",
      "  [126  91  36]\n",
      "  [116  85  33]]\n",
      "\n",
      " [[152 112  51]\n",
      "  [151 110  40]\n",
      "  [159 114  45]\n",
      "  ...\n",
      "  [136  95  31]\n",
      "  [125  91  32]\n",
      "  [119  88  34]]\n",
      "\n",
      " [[151 110  47]\n",
      "  [151 109  33]\n",
      "  [158 111  36]\n",
      "  ...\n",
      "  [139  98  34]\n",
      "  [130  95  34]\n",
      "  [120  89  33]]\n",
      "\n",
      " ...\n",
      "\n",
      " [[ 68 124 177]\n",
      "  [ 42 100 148]\n",
      "  [ 31  88 137]\n",
      "  ...\n",
      "  [ 38  97 146]\n",
      "  [ 13  64 108]\n",
      "  [ 40  85 127]]\n",
      "\n",
      " [[ 61 116 168]\n",
      "  [ 49 102 148]\n",
      "  [ 35  85 132]\n",
      "  ...\n",
      "  [ 26  82 130]\n",
      "  [ 29  82 126]\n",
      "  [ 20  64 107]]\n",
      "\n",
      " [[ 54 107 160]\n",
      "  [ 56 105 149]\n",
      "  [ 45  89 132]\n",
      "  ...\n",
      "  [ 24  77 124]\n",
      "  [ 34  84 129]\n",
      "  [ 21  67 110]]], shape=(32, 32, 3), dtype=uint8)\n"
     ]
    },
    {
     "ename": "ValueError",
     "evalue": "'images' must have either 3 or 4 dimensions.",
     "output_type": "error",
     "traceback": [
      "\u001b[1;31m---------------------------------------------------------------------------\u001b[0m",
      "\u001b[1;31mValueError\u001b[0m                                Traceback (most recent call last)",
      "Cell \u001b[1;32mIn[86], line 1\u001b[0m\n\u001b[1;32m----> 1\u001b[0m encode_img \u001b[38;5;241m=\u001b[39m \u001b[43mencode_img_jpeg\u001b[49m\u001b[43m(\u001b[49m\u001b[43mtest_images\u001b[49m\u001b[43m[\u001b[49m\u001b[38;5;241;43m0\u001b[39;49m\u001b[43m]\u001b[49m\u001b[43m,\u001b[49m\u001b[43m \u001b[49m\u001b[43mx\u001b[49m\u001b[43m)\u001b[49m\n\u001b[0;32m      3\u001b[0m \u001b[38;5;28mprint\u001b[39m(encode_img\u001b[38;5;241m.\u001b[39mnumpy())\n",
      "Cell \u001b[1;32mIn[85], line 5\u001b[0m, in \u001b[0;36mencode_img_jpeg\u001b[1;34m(img, x)\u001b[0m\n\u001b[0;32m      3\u001b[0m \u001b[38;5;28mprint\u001b[39m(img)\n\u001b[0;32m      4\u001b[0m img \u001b[38;5;241m=\u001b[39m tf\u001b[38;5;241m.\u001b[39mio\u001b[38;5;241m.\u001b[39mencode_jpeg(img, \u001b[38;5;28mformat\u001b[39m\u001b[38;5;241m=\u001b[39m\u001b[38;5;124m'\u001b[39m\u001b[38;5;124mrgb\u001b[39m\u001b[38;5;124m'\u001b[39m)\n\u001b[1;32m----> 5\u001b[0m img \u001b[38;5;241m=\u001b[39m \u001b[43mtf\u001b[49m\u001b[38;5;241;43m.\u001b[39;49m\u001b[43mimage\u001b[49m\u001b[38;5;241;43m.\u001b[39;49m\u001b[43mresize\u001b[49m\u001b[43m(\u001b[49m\u001b[43mimg\u001b[49m\u001b[43m,\u001b[49m\u001b[43m \u001b[49m\u001b[43m[\u001b[49m\u001b[43mx\u001b[49m\u001b[43m,\u001b[49m\u001b[43m \u001b[49m\u001b[43mx\u001b[49m\u001b[43m]\u001b[49m\u001b[43m)\u001b[49m\n\u001b[0;32m      6\u001b[0m \u001b[38;5;28;01mreturn\u001b[39;00m img\n",
      "File \u001b[1;32mc:\\Users\\naoki\\PythonVenv\\StudyVenv\\Lib\\site-packages\\tensorflow\\python\\util\\traceback_utils.py:153\u001b[0m, in \u001b[0;36mfilter_traceback.<locals>.error_handler\u001b[1;34m(*args, **kwargs)\u001b[0m\n\u001b[0;32m    151\u001b[0m \u001b[38;5;28;01mexcept\u001b[39;00m \u001b[38;5;167;01mException\u001b[39;00m \u001b[38;5;28;01mas\u001b[39;00m e:\n\u001b[0;32m    152\u001b[0m   filtered_tb \u001b[38;5;241m=\u001b[39m _process_traceback_frames(e\u001b[38;5;241m.\u001b[39m__traceback__)\n\u001b[1;32m--> 153\u001b[0m   \u001b[38;5;28;01mraise\u001b[39;00m e\u001b[38;5;241m.\u001b[39mwith_traceback(filtered_tb) \u001b[38;5;28;01mfrom\u001b[39;00m \u001b[38;5;28;01mNone\u001b[39;00m\n\u001b[0;32m    154\u001b[0m \u001b[38;5;28;01mfinally\u001b[39;00m:\n\u001b[0;32m    155\u001b[0m   \u001b[38;5;28;01mdel\u001b[39;00m filtered_tb\n",
      "File \u001b[1;32mc:\\Users\\naoki\\PythonVenv\\StudyVenv\\Lib\\site-packages\\tensorflow\\python\\ops\\image_ops_impl.py:1468\u001b[0m, in \u001b[0;36m_resize_images_common\u001b[1;34m(images, resizer_fn, size, preserve_aspect_ratio, name, skip_resize_if_same)\u001b[0m\n\u001b[0;32m   1466\u001b[0m   images \u001b[38;5;241m=\u001b[39m array_ops\u001b[38;5;241m.\u001b[39mexpand_dims(images, \u001b[38;5;241m0\u001b[39m)\n\u001b[0;32m   1467\u001b[0m \u001b[38;5;28;01melif\u001b[39;00m images\u001b[38;5;241m.\u001b[39mget_shape()\u001b[38;5;241m.\u001b[39mndims \u001b[38;5;241m!=\u001b[39m \u001b[38;5;241m4\u001b[39m:\n\u001b[1;32m-> 1468\u001b[0m   \u001b[38;5;28;01mraise\u001b[39;00m \u001b[38;5;167;01mValueError\u001b[39;00m(\u001b[38;5;124m'\u001b[39m\u001b[38;5;130;01m\\'\u001b[39;00m\u001b[38;5;124mimages\u001b[39m\u001b[38;5;130;01m\\'\u001b[39;00m\u001b[38;5;124m must have either 3 or 4 dimensions.\u001b[39m\u001b[38;5;124m'\u001b[39m)\n\u001b[0;32m   1470\u001b[0m _, height, width, _ \u001b[38;5;241m=\u001b[39m images\u001b[38;5;241m.\u001b[39mget_shape()\u001b[38;5;241m.\u001b[39mas_list()\n\u001b[0;32m   1472\u001b[0m \u001b[38;5;28;01mtry\u001b[39;00m:\n",
      "\u001b[1;31mValueError\u001b[0m: 'images' must have either 3 or 4 dimensions."
     ]
    }
   ],
   "source": [
    "encode_img = encode_img_jpeg(test_images[0], x)\n",
    "\n",
    "print(encode_img.numpy())"
   ]
  },
  {
   "cell_type": "code",
   "execution_count": 55,
   "metadata": {},
   "outputs": [
    {
     "ename": "ValueError",
     "evalue": "Tensor conversion requested dtype string for Tensor with dtype uint8: <tf.Tensor: shape=(32, 32, 3), dtype=uint8, numpy=\narray([[[158, 112,  49],\n        [159, 111,  47],\n        [165, 116,  51],\n        ...,\n        [137,  95,  36],\n        [126,  91,  36],\n        [116,  85,  33]],\n\n       [[152, 112,  51],\n        [151, 110,  40],\n        [159, 114,  45],\n        ...,\n        [136,  95,  31],\n        [125,  91,  32],\n        [119,  88,  34]],\n\n       [[151, 110,  47],\n        [151, 109,  33],\n        [158, 111,  36],\n        ...,\n        [139,  98,  34],\n        [130,  95,  34],\n        [120,  89,  33]],\n\n       ...,\n\n       [[ 68, 124, 177],\n        [ 42, 100, 148],\n        [ 31,  88, 137],\n        ...,\n        [ 38,  97, 146],\n        [ 13,  64, 108],\n        [ 40,  85, 127]],\n\n       [[ 61, 116, 168],\n        [ 49, 102, 148],\n        [ 35,  85, 132],\n        ...,\n        [ 26,  82, 130],\n        [ 29,  82, 126],\n        [ 20,  64, 107]],\n\n       [[ 54, 107, 160],\n        [ 56, 105, 149],\n        [ 45,  89, 132],\n        ...,\n        [ 24,  77, 124],\n        [ 34,  84, 129],\n        [ 21,  67, 110]]], dtype=uint8)>",
     "output_type": "error",
     "traceback": [
      "\u001b[1;31m---------------------------------------------------------------------------\u001b[0m",
      "\u001b[1;31mValueError\u001b[0m                                Traceback (most recent call last)",
      "Cell \u001b[1;32mIn[55], line 2\u001b[0m\n\u001b[0;32m      1\u001b[0m \u001b[38;5;28;01mfor\u001b[39;00m test_image \u001b[38;5;129;01min\u001b[39;00m test_images:\n\u001b[1;32m----> 2\u001b[0m   decode_img\u001b[38;5;241m.\u001b[39mappend(\u001b[43mdecode_img_jpeg\u001b[49m\u001b[43m(\u001b[49m\u001b[43mtest_image\u001b[49m\u001b[43m,\u001b[49m\u001b[43m \u001b[49m\u001b[43mx\u001b[49m\u001b[43m)\u001b[49m)\n",
      "Cell \u001b[1;32mIn[54], line 3\u001b[0m, in \u001b[0;36mdecode_img_jpeg\u001b[1;34m(img, x)\u001b[0m\n\u001b[0;32m      1\u001b[0m \u001b[38;5;28;01mdef\u001b[39;00m \u001b[38;5;21mdecode_img_jpeg\u001b[39m(img,x):\n\u001b[0;32m      2\u001b[0m   img \u001b[38;5;241m=\u001b[39m tf\u001b[38;5;241m.\u001b[39mconvert_to_tensor(img, dtype\u001b[38;5;241m=\u001b[39mtf\u001b[38;5;241m.\u001b[39muint8)\n\u001b[1;32m----> 3\u001b[0m   img \u001b[38;5;241m=\u001b[39m \u001b[43mtf\u001b[49m\u001b[38;5;241;43m.\u001b[39;49m\u001b[43mio\u001b[49m\u001b[38;5;241;43m.\u001b[39;49m\u001b[43mdecode_jpeg\u001b[49m\u001b[43m(\u001b[49m\u001b[43mimg\u001b[49m\u001b[43m,\u001b[49m\u001b[43m \u001b[49m\u001b[43mchannels\u001b[49m\u001b[38;5;241;43m=\u001b[39;49m\u001b[38;5;241;43m3\u001b[39;49m\u001b[43m)\u001b[49m\n\u001b[0;32m      4\u001b[0m   img \u001b[38;5;241m=\u001b[39m tf\u001b[38;5;241m.\u001b[39mimage\u001b[38;5;241m.\u001b[39mresize(img, [x, x])\n\u001b[0;32m      5\u001b[0m   \u001b[38;5;28;01mreturn\u001b[39;00m img\n",
      "File \u001b[1;32mc:\\Users\\naoki\\PythonVenv\\StudyVenv\\Lib\\site-packages\\tensorflow\\python\\util\\traceback_utils.py:153\u001b[0m, in \u001b[0;36mfilter_traceback.<locals>.error_handler\u001b[1;34m(*args, **kwargs)\u001b[0m\n\u001b[0;32m    151\u001b[0m \u001b[38;5;28;01mexcept\u001b[39;00m \u001b[38;5;167;01mException\u001b[39;00m \u001b[38;5;28;01mas\u001b[39;00m e:\n\u001b[0;32m    152\u001b[0m   filtered_tb \u001b[38;5;241m=\u001b[39m _process_traceback_frames(e\u001b[38;5;241m.\u001b[39m__traceback__)\n\u001b[1;32m--> 153\u001b[0m   \u001b[38;5;28;01mraise\u001b[39;00m e\u001b[38;5;241m.\u001b[39mwith_traceback(filtered_tb) \u001b[38;5;28;01mfrom\u001b[39;00m \u001b[38;5;28;01mNone\u001b[39;00m\n\u001b[0;32m    154\u001b[0m \u001b[38;5;28;01mfinally\u001b[39;00m:\n\u001b[0;32m    155\u001b[0m   \u001b[38;5;28;01mdel\u001b[39;00m filtered_tb\n",
      "File \u001b[1;32mc:\\Users\\naoki\\PythonVenv\\StudyVenv\\Lib\\site-packages\\tensorflow\\python\\framework\\tensor.py:761\u001b[0m, in \u001b[0;36mTensor.__tf_tensor__\u001b[1;34m(self, dtype, name)\u001b[0m\n\u001b[0;32m    757\u001b[0m \u001b[38;5;28;01mdef\u001b[39;00m \u001b[38;5;21m__tf_tensor__\u001b[39m(\n\u001b[0;32m    758\u001b[0m     \u001b[38;5;28mself\u001b[39m, dtype: Optional[dtypes\u001b[38;5;241m.\u001b[39mDType] \u001b[38;5;241m=\u001b[39m \u001b[38;5;28;01mNone\u001b[39;00m, name: Optional[\u001b[38;5;28mstr\u001b[39m] \u001b[38;5;241m=\u001b[39m \u001b[38;5;28;01mNone\u001b[39;00m\n\u001b[0;32m    759\u001b[0m     ) \u001b[38;5;241m-\u001b[39m\u001b[38;5;241m>\u001b[39m \u001b[38;5;124m\"\u001b[39m\u001b[38;5;124mTensor\u001b[39m\u001b[38;5;124m\"\u001b[39m:\n\u001b[0;32m    760\u001b[0m   \u001b[38;5;28;01mif\u001b[39;00m dtype \u001b[38;5;129;01mis\u001b[39;00m \u001b[38;5;129;01mnot\u001b[39;00m \u001b[38;5;28;01mNone\u001b[39;00m \u001b[38;5;129;01mand\u001b[39;00m \u001b[38;5;129;01mnot\u001b[39;00m dtype\u001b[38;5;241m.\u001b[39mis_compatible_with(\u001b[38;5;28mself\u001b[39m\u001b[38;5;241m.\u001b[39mdtype):\n\u001b[1;32m--> 761\u001b[0m     \u001b[38;5;28;01mraise\u001b[39;00m \u001b[38;5;167;01mValueError\u001b[39;00m(\n\u001b[0;32m    762\u001b[0m         _add_error_prefix(\n\u001b[0;32m    763\u001b[0m             \u001b[38;5;124mf\u001b[39m\u001b[38;5;124m\"\u001b[39m\u001b[38;5;124mTensor conversion requested dtype \u001b[39m\u001b[38;5;132;01m{\u001b[39;00mdtype\u001b[38;5;241m.\u001b[39mname\u001b[38;5;132;01m}\u001b[39;00m\u001b[38;5;124m \u001b[39m\u001b[38;5;124m\"\u001b[39m\n\u001b[0;32m    764\u001b[0m             \u001b[38;5;124mf\u001b[39m\u001b[38;5;124m\"\u001b[39m\u001b[38;5;124mfor Tensor with dtype \u001b[39m\u001b[38;5;132;01m{\u001b[39;00m\u001b[38;5;28mself\u001b[39m\u001b[38;5;241m.\u001b[39mdtype\u001b[38;5;241m.\u001b[39mname\u001b[38;5;132;01m}\u001b[39;00m\u001b[38;5;124m: \u001b[39m\u001b[38;5;132;01m{\u001b[39;00m\u001b[38;5;28mself\u001b[39m\u001b[38;5;132;01m!r}\u001b[39;00m\u001b[38;5;124m\"\u001b[39m,\n\u001b[0;32m    765\u001b[0m             name\u001b[38;5;241m=\u001b[39mname))\n\u001b[0;32m    766\u001b[0m   \u001b[38;5;28;01mreturn\u001b[39;00m \u001b[38;5;28mself\u001b[39m\n",
      "\u001b[1;31mValueError\u001b[0m: Tensor conversion requested dtype string for Tensor with dtype uint8: <tf.Tensor: shape=(32, 32, 3), dtype=uint8, numpy=\narray([[[158, 112,  49],\n        [159, 111,  47],\n        [165, 116,  51],\n        ...,\n        [137,  95,  36],\n        [126,  91,  36],\n        [116,  85,  33]],\n\n       [[152, 112,  51],\n        [151, 110,  40],\n        [159, 114,  45],\n        ...,\n        [136,  95,  31],\n        [125,  91,  32],\n        [119,  88,  34]],\n\n       [[151, 110,  47],\n        [151, 109,  33],\n        [158, 111,  36],\n        ...,\n        [139,  98,  34],\n        [130,  95,  34],\n        [120,  89,  33]],\n\n       ...,\n\n       [[ 68, 124, 177],\n        [ 42, 100, 148],\n        [ 31,  88, 137],\n        ...,\n        [ 38,  97, 146],\n        [ 13,  64, 108],\n        [ 40,  85, 127]],\n\n       [[ 61, 116, 168],\n        [ 49, 102, 148],\n        [ 35,  85, 132],\n        ...,\n        [ 26,  82, 130],\n        [ 29,  82, 126],\n        [ 20,  64, 107]],\n\n       [[ 54, 107, 160],\n        [ 56, 105, 149],\n        [ 45,  89, 132],\n        ...,\n        [ 24,  77, 124],\n        [ 34,  84, 129],\n        [ 21,  67, 110]]], dtype=uint8)>"
     ]
    }
   ],
   "source": [
    "for test_image in test_images:\n",
    "  encode_img.append(encode_img_jpeg(test_image, x))"
   ]
  },
  {
   "cell_type": "code",
   "execution_count": 8,
   "metadata": {},
   "outputs": [
    {
     "name": "stdout",
     "output_type": "stream",
     "text": [
      "10.0594463\n"
     ]
    }
   ],
   "source": [
    "tf.print(Metrics.PSNR(train_images[0], train_images[1]))"
   ]
  },
  {
   "cell_type": "markdown",
   "metadata": {},
   "source": []
  },
  {
   "cell_type": "code",
   "execution_count": 3,
   "metadata": {},
   "outputs": [],
   "source": [
    "(_, _), (test_images, _) = datasets.cifar10.load_data()\n",
    "test_images = test_images[:10000]\n",
    "img_size = test_images.shape[1:]"
   ]
  },
  {
   "cell_type": "code",
   "execution_count": 19,
   "metadata": {},
   "outputs": [
    {
     "name": "stdout",
     "output_type": "stream",
     "text": [
      "4.392317422778761\n",
      "1.7157489932729535\n",
      "21\n",
      "0.390625\n"
     ]
    }
   ],
   "source": [
    "SNR = 20\n",
    "P = 1\n",
    "N = P/10**(SNR/10)\n",
    "C = np.log2(1+SNR)\n",
    "x = 20\n",
    "k = x**2*3\n",
    "n = np.prod(img_size)\n",
    "k_n = k/n\n",
    "R_max = k/n*C\n",
    "R = R_max\n",
    "# if R > 1:\n",
    "#   Q = 0.5*R\n",
    "# else:\n",
    "#   Q=1-0.5/R\n",
    "# Q = int(Q*100)\n",
    "Q = R/8\n",
    "Q = int(Q*100)\n",
    "print(C)\n",
    "print(R_max)\n",
    "print(Q)\n",
    "print(k_n)"
   ]
  },
  {
   "cell_type": "code",
   "execution_count": 15,
   "metadata": {},
   "outputs": [],
   "source": [
    "def compress_image(image, quality):\n",
    "  image = cv2.cvtColor(image, cv2.COLOR_RGB2BGR)\n",
    "  encode_param = [int(cv2.IMWRITE_JPEG_QUALITY), 100]\n",
    "  result, encimg = cv2.imencode('.jpeg', image, encode_param)\n",
    "  if not result:\n",
    "    print('could not encode image!')\n",
    "    return None\n",
    "  decimg = cv2.imdecode(encimg, 1)\n",
    "  decimg = cv2.imdecode(encimg, cv2.IMREAD_COLOR)\n",
    "  decimg = cv2.cvtColor(decimg, cv2.COLOR_BGR2RGB)\n",
    "  return decimg"
   ]
  },
  {
   "cell_type": "code",
   "execution_count": 16,
   "metadata": {},
   "outputs": [],
   "source": [
    "PSNR = []\n",
    "for test_image in test_images:\n",
    "  decode_img = compress_image(test_image, Q)\n",
    "  decode_img = decode_img/255.0\n",
    "  # print(np.mean(decode_img))\n",
    "  P = np.mean(decode_img)\n",
    "  N = P/10**(SNR/10)\n",
    "  # noise = np.random.normal(0, np.sqrt(N), decode_img.shape)\n",
    "  # print(noise)\n",
    "  # decode_img = decode_img + noise\n",
    "  # decode_img[decode_img > 1] = 1\n",
    "  # decode_img[decode_img < 0] = 0\n",
    "  test_image = test_image/255.0\n",
    "  PSNR.append(Metrics.PSNR(decode_img, test_image))"
   ]
  },
  {
   "cell_type": "code",
   "execution_count": 17,
   "metadata": {},
   "outputs": [
    {
     "name": "stdout",
     "output_type": "stream",
     "text": [
      "tf.Tensor(39.33548, shape=(), dtype=float32)\n"
     ]
    }
   ],
   "source": [
    "PSNR_avg = sum(PSNR)/len(PSNR)\n",
    "print(PSNR_avg)"
   ]
  },
  {
   "cell_type": "code",
   "execution_count": 18,
   "metadata": {},
   "outputs": [
    {
     "data": {
      "image/png": "[encoded data removed]",
      "text/plain": [
       "<Figure size 1000x500 with 2 Axes>"
      ]
     },
     "metadata": {},
     "output_type": "display_data"
    }
   ],
   "source": [
    "# 結果の表示\n",
    "fig, axes = plt.subplots(1, 2, figsize=(10, 5))\n",
    "axes[0].imshow(test_images[9999])\n",
    "axes[0].set_title('Original Image')\n",
    "axes[0].axis('off')\n",
    "\n",
    "axes[1].imshow(decode_img)\n",
    "axes[1].set_title(f'Compressed Image (k/n={round(k_n, 2)}, SNR={SNR}dB)')\n",
    "axes[1].axis('off')\n",
    "\n",
    "plt.show()"
   ]
  },
  {
   "cell_type": "code",
   "execution_count": 77,
   "metadata": {},
   "outputs": [
    {
     "name": "stdout",
     "output_type": "stream",
     "text": [
      "30.5848961\n"
     ]
    }
   ],
   "source": [
    "decode_img = decode_img/255.0\n",
    "test_image = test_images[0]/255.0\n",
    "\n",
    "tf.print(Metrics.PSNR(decode_img, test_images[0]))"
   ]
  },
  {
   "cell_type": "code",
   "execution_count": 53,
   "metadata": {},
   "outputs": [
    {
     "data": {
      "image/png": "[encoded data removed]",
      "text/plain": [
       "<Figure size 1500x500 with 3 Axes>"
      ]
     },
     "metadata": {},
     "output_type": "display_data"
    }
   ],
   "source": [
    "import cv2\n",
    "import numpy as np\n",
    "import matplotlib.pyplot as plt\n",
    "from tensorflow.keras.datasets import cifar10\n",
    "from skimage.metrics import peak_signal_noise_ratio as psnr\n",
    "\n",
    "# CIFAR-10データセットの読み込み\n",
    "(x_train, y_train), (x_test, y_test) = cifar10.load_data()\n",
    "\n",
    "# 最初の画像を取得\n",
    "original_image = x_train[0]\n",
    "\n",
    "# JPEGで圧縮\n",
    "def compress_image(img):\n",
    "    img = cv2.cvtColor(img, cv2.COLOR_RGB2BGR)  # change color from RGB to BGR\n",
    "    is_success, jpeg = cv2.imencode('.jpg', img, (cv2.IMWRITE_JPEG_QUALITY, 100)) # convert to jpeg\n",
    "    if not is_success:\n",
    "        print('could not encode image!')\n",
    "        return None\n",
    "    jpeg = cv2.imdecode(jpeg, cv2.IMREAD_COLOR)\n",
    "    jpeg = cv2.cvtColor(decimg, cv2.COLOR_BGR2RGB)\n",
    "    return decimg\n",
    "\n",
    "# AWGNノイズを追加\n",
    "def add_awgn_noise(image, noise_std_dev):\n",
    "    row, col, ch = image.shape\n",
    "    mean = 0\n",
    "    gauss = np.random.normal(mean, noise_std_dev, (row, col, ch))\n",
    "    noisy = image + gauss\n",
    "    noisy = np.clip(noisy, 0, 255)\n",
    "    return noisy.astype(np.uint8)\n",
    "\n",
    "# PSNRを計算\n",
    "def calculate_psnr(original, compressed):\n",
    "    return psnr(original, compressed, data_range=255)\n",
    "\n",
    "# 圧縮レートを指定\n",
    "quality = 50  # 圧縮レートを指定 (例: 50)\n",
    "compressed_image = compress_image(original_image, quality)\n",
    "\n",
    "# ノイズの標準偏差を指定してノイズを追加\n",
    "noise_std_dev = 20\n",
    "noisy_image = add_awgn_noise(compressed_image, noise_std_dev)\n",
    "\n",
    "# PSNRの計算\n",
    "psnr_compressed = calculate_psnr(original_image, compressed_image)\n",
    "psnr_noisy = calculate_psnr(original_image, noisy_image)\n",
    "\n",
    "# 結果の表示\n",
    "fig, axes = plt.subplots(1, 3, figsize=(15, 5))\n",
    "axes[0].imshow(original_image)\n",
    "axes[0].set_title('Original Image')\n",
    "axes[0].axis('off')\n",
    "\n",
    "axes[1].imshow(compressed_image)\n",
    "axes[1].set_title(f'Compressed Image\\n(PSNR={psnr_compressed:.2f})')\n",
    "axes[1].axis('off')\n",
    "\n",
    "axes[2].imshow(noisy_image)\n",
    "axes[2].set_title(f'Noisy Image\\n(PSNR={psnr_noisy:.2f})')\n",
    "axes[2].axis('off')\n",
    "\n",
    "plt.show()\n"
   ]
  },
  {
   "cell_type": "code",
   "execution_count": 79,
   "metadata": {},
   "outputs": [
    {
     "name": "stdout",
     "output_type": "stream",
     "text": [
      "[255 216 255 ... 167 255 217]\n",
      "[[[157 113  48]\n",
      "  [156 112  47]\n",
      "  [164 116  52]\n",
      "  ...\n",
      "  [137  95  35]\n",
      "  [128  91  36]\n",
      "  [117  84  30]]\n",
      "\n",
      " [[155 112  44]\n",
      "  [153 108  41]\n",
      "  [161 113  47]\n",
      "  ...\n",
      "  [136  94  34]\n",
      "  [126  90  32]\n",
      "  [120  88  31]]\n",
      "\n",
      " [[154 109  41]\n",
      "  [154 107  39]\n",
      "  [160 110  41]\n",
      "  ...\n",
      "  [138  98  36]\n",
      "  [131  95  35]\n",
      "  [123  88  30]]\n",
      "\n",
      " ...\n",
      "\n",
      " [[ 70 123 175]\n",
      "  [ 45  98 150]\n",
      "  [ 34  87 139]\n",
      "  ...\n",
      "  [ 42  95 145]\n",
      "  [ 15  62 108]\n",
      "  [ 40  85 127]]\n",
      "\n",
      " [[ 62 114 164]\n",
      "  [ 49 101 149]\n",
      "  [ 34  84 133]\n",
      "  ...\n",
      "  [ 29  81 129]\n",
      "  [ 32  80 126]\n",
      "  [ 18  65 109]]\n",
      "\n",
      " [[ 55 107 155]\n",
      "  [ 54 104 153]\n",
      "  [ 42  90 138]\n",
      "  ...\n",
      "  [ 25  77 124]\n",
      "  [ 35  83 129]\n",
      "  [ 20  67 111]]]\n"
     ]
    },
    {
     "ename": "NameError",
     "evalue": "name 'original_image' is not defined",
     "output_type": "error",
     "traceback": [
      "\u001b[1;31m---------------------------------------------------------------------------\u001b[0m",
      "\u001b[1;31mNameError\u001b[0m                                 Traceback (most recent call last)",
      "Cell \u001b[1;32mIn[79], line 40\u001b[0m\n\u001b[0;32m     34\u001b[0m \u001b[38;5;66;03m# PSNRの計算\u001b[39;00m\n\u001b[0;32m     35\u001b[0m \u001b[38;5;66;03m# psnr_compressed = calculate_psnr(original_image, compressed_image)\u001b[39;00m\n\u001b[0;32m     36\u001b[0m \u001b[38;5;66;03m# psnr_noisy = calculate_psnr(original_image, noisy_image)\u001b[39;00m\n\u001b[0;32m     37\u001b[0m \n\u001b[0;32m     38\u001b[0m \u001b[38;5;66;03m# 結果の表示\u001b[39;00m\n\u001b[0;32m     39\u001b[0m fig, axes \u001b[38;5;241m=\u001b[39m plt\u001b[38;5;241m.\u001b[39msubplots(\u001b[38;5;241m1\u001b[39m, \u001b[38;5;241m3\u001b[39m, figsize\u001b[38;5;241m=\u001b[39m(\u001b[38;5;241m15\u001b[39m, \u001b[38;5;241m5\u001b[39m))\n\u001b[1;32m---> 40\u001b[0m axes[\u001b[38;5;241m0\u001b[39m]\u001b[38;5;241m.\u001b[39mimshow(\u001b[43moriginal_image\u001b[49m)\n\u001b[0;32m     41\u001b[0m axes[\u001b[38;5;241m0\u001b[39m]\u001b[38;5;241m.\u001b[39mset_title(\u001b[38;5;124m'\u001b[39m\u001b[38;5;124mOriginal Image\u001b[39m\u001b[38;5;124m'\u001b[39m)\n\u001b[0;32m     42\u001b[0m axes[\u001b[38;5;241m0\u001b[39m]\u001b[38;5;241m.\u001b[39maxis(\u001b[38;5;124m'\u001b[39m\u001b[38;5;124moff\u001b[39m\u001b[38;5;124m'\u001b[39m)\n",
      "\u001b[1;31mNameError\u001b[0m: name 'original_image' is not defined"
     ]
    },
    {
     "data": {
      "image/png": "[encoded data removed]",
      "text/plain": [
       "<Figure size 1500x500 with 3 Axes>"
      ]
     },
     "metadata": {},
     "output_type": "display_data"
    }
   ],
   "source": [
    "import cv2\n",
    "import numpy as np\n",
    "import matplotlib.pyplot as plt\n",
    "from tensorflow.keras.datasets import cifar10\n",
    "from skimage.metrics import peak_signal_noise_ratio as psnr\n",
    "\n",
    "# CIFAR-10データセットの読み込み\n",
    "(_, _), (org_img, _) = cifar10.load_data()\n",
    "\n",
    "# convert image to jpeg\n",
    "def img2jpeg(img):\n",
    "    img = cv2.cvtColor(img, cv2.COLOR_RGB2BGR)  # change color from RGB to BGR\n",
    "    is_success, jpeg = cv2.imencode('.jpg', img, (cv2.IMWRITE_JPEG_QUALITY, 100)) # convert to jpeg\n",
    "    if not is_success:\n",
    "        print('could not encode image!')\n",
    "        return None\n",
    "    print(jpeg)\n",
    "    jpeg = cv2.imdecode(jpeg, cv2.IMREAD_COLOR) # decode\n",
    "    jpeg = cv2.cvtColor(jpeg, cv2.COLOR_BGR2RGB)  # change clolor from BGR to RGB\n",
    "    return jpeg\n",
    "\n",
    "\n",
    "# PSNRを計算\n",
    "def calculate_psnr(original, compressed):\n",
    "    return psnr(original, compressed, data_range=255)\n",
    "\n",
    "jpeg = img2jpeg(org_img[0])\n",
    "\n",
    "print(jpeg)\n",
    "\n",
    "\n",
    "\n",
    "\n",
    "# PSNRの計算\n",
    "# psnr_compressed = calculate_psnr(original_image, compressed_image)\n",
    "# psnr_noisy = calculate_psnr(original_image, noisy_image)\n",
    "\n",
    "# 結果の表示\n",
    "fig, axes = plt.subplots(1, 3, figsize=(15, 5))\n",
    "axes[0].imshow(original_image)\n",
    "axes[0].set_title('Original Image')\n",
    "axes[0].axis('off')\n",
    "\n",
    "axes[1].imshow(compressed_image)\n",
    "axes[1].set_title(f'Compressed Image\\n(PSNR={psnr_compressed:.2f})')\n",
    "axes[1].axis('off')\n",
    "\n",
    "axes[2].imshow(noisy_image)\n",
    "axes[2].set_title(f'Noisy Image\\n(PSNR={psnr_noisy:.2f})')\n",
    "axes[2].axis('off')\n",
    "\n",
    "plt.show()\n"
   ]
  },
  {
   "cell_type": "code",
   "execution_count": 13,
   "metadata": {},
   "outputs": [
    {
     "name": "stdout",
     "output_type": "stream",
     "text": [
      "<PIL.Image.Image image mode=RGB size=32x32 at 0x19BCB068450>\n",
      "画像の保存が完了しました。\n"
     ]
    }
   ],
   "source": [
    "import tensorflow as tf\n",
    "import numpy as np\n",
    "from PIL import Image\n",
    "import os\n",
    "\n",
    "# CIFAR-10データセットをロード\n",
    "(_, _), (org_img, _) = tf.keras.datasets.cifar10.load_data()\n",
    "\n",
    "org_img = org_img[:100]\n",
    "\n",
    "# トレーニングデータの画像を保存\n",
    "for i in range(org_img.shape[0]):\n",
    "  img = Image.fromarray(org_img[i])\n",
    "  img.save(f\"./images/org_img_{i}.png\")\n",
    "\n",
    "print(img)\n",
    "print(\"画像の保存が完了しました。\")\n"
   ]
  },
  {
   "cell_type": "code",
   "execution_count": 14,
   "metadata": {},
   "outputs": [
    {
     "ename": "TypeError",
     "evalue": "'Image' object is not subscriptable",
     "output_type": "error",
     "traceback": [
      "\u001b[1;31m---------------------------------------------------------------------------\u001b[0m",
      "\u001b[1;31mTypeError\u001b[0m                                 Traceback (most recent call last)",
      "Cell \u001b[1;32mIn[14], line 7\u001b[0m\n\u001b[0;32m      4\u001b[0m axes[\u001b[38;5;241m0\u001b[39m]\u001b[38;5;241m.\u001b[39mset_title(\u001b[38;5;124m'\u001b[39m\u001b[38;5;124mOriginal Image\u001b[39m\u001b[38;5;124m'\u001b[39m)\n\u001b[0;32m      5\u001b[0m axes[\u001b[38;5;241m0\u001b[39m]\u001b[38;5;241m.\u001b[39maxis(\u001b[38;5;124m'\u001b[39m\u001b[38;5;124moff\u001b[39m\u001b[38;5;124m'\u001b[39m)\n\u001b[1;32m----> 7\u001b[0m axes[\u001b[38;5;241m1\u001b[39m]\u001b[38;5;241m.\u001b[39mimshow(\u001b[43mimg\u001b[49m\u001b[43m[\u001b[49m\u001b[38;5;241;43m0\u001b[39;49m\u001b[43m]\u001b[49m)\n\u001b[0;32m      8\u001b[0m axes[\u001b[38;5;241m1\u001b[39m]\u001b[38;5;241m.\u001b[39mset_title(\u001b[38;5;124mf\u001b[39m\u001b[38;5;124m'\u001b[39m\u001b[38;5;124mJPEG\u001b[39m\u001b[38;5;124m'\u001b[39m)\n\u001b[0;32m      9\u001b[0m axes[\u001b[38;5;241m1\u001b[39m]\u001b[38;5;241m.\u001b[39maxis(\u001b[38;5;124m'\u001b[39m\u001b[38;5;124moff\u001b[39m\u001b[38;5;124m'\u001b[39m)\n",
      "\u001b[1;31mTypeError\u001b[0m: 'Image' object is not subscriptable"
     ]
    },
    {
     "data": {
      "image/png": "[encoded data removed]",
      "text/plain": [
       "<Figure size 1000x500 with 2 Axes>"
      ]
     },
     "metadata": {},
     "output_type": "display_data"
    }
   ],
   "source": [
    "# 結果の表示\n",
    "fig, axes = plt.subplots(1, 2, figsize=(10, 5))\n",
    "axes[0].imshow(org_img[0])\n",
    "axes[0].set_title('Original Image')\n",
    "axes[0].axis('off')\n",
    "\n",
    "axes[1].imshow(img[0])\n",
    "axes[1].set_title(f'JPEG')\n",
    "axes[1].axis('off')\n",
    "\n",
    "plt.show()"
   ]
  },
  {
   "cell_type": "code",
   "execution_count": null,
   "metadata": {},
   "outputs": [],
   "source": []
  },
  {
   "cell_type": "code",
   "execution_count": 37,
   "metadata": {},
   "outputs": [],
   "source": [
    "import tensorflow as tf\n",
    "from PIL import Image\n",
    "import os\n",
    "import matplotlib.pyplot as plt\n",
    "from skimage.metrics import peak_signal_noise_ratio as psnr\n",
    "import numpy as np"
   ]
  },
  {
   "cell_type": "code",
   "execution_count": 67,
   "metadata": {},
   "outputs": [],
   "source": [
    "(_, _), (org_img, _) = datasets.cifar10.load_data()\n",
    "opg_img = org_img[:100]\n",
    "\n",
    "n = 32*32*3\n",
    "\n",
    "DIR = 'images'\n",
    "os.makedirs(DIR, exist_ok=True)\n",
    "img = Image.fromarray(org_img[0])\n",
    "img.save(f'{DIR}/org_img.bmp')\n",
    "for i in range(101):\n",
    "  img.save(f'{DIR}/quality_{i}.jpeg', format='JPEG', quality=i)\n"
   ]
  },
  {
   "cell_type": "code",
   "execution_count": 74,
   "metadata": {},
   "outputs": [
    {
     "name": "stdout",
     "output_type": "stream",
     "text": [
      "3072\n"
     ]
    }
   ],
   "source": [
    "print(len(org_img[0].tobytes()))"
   ]
  },
  {
   "cell_type": "code",
   "execution_count": 64,
   "metadata": {},
   "outputs": [],
   "source": [
    "file_size = []\n",
    "for i in range(101):\n",
    "  file_size.append(os.path.getsize(f'{DIR}/quality_{i}.jpeg'))\n",
    "\n",
    "R_max = [file_size/n*8 for file_size in file_size]"
   ]
  },
  {
   "cell_type": "code",
   "execution_count": 80,
   "metadata": {},
   "outputs": [
    {
     "name": "stdout",
     "output_type": "stream",
     "text": [
      "25.41356706265465\n",
      "inf\n",
      "777\n"
     ]
    },
    {
     "name": "stderr",
     "output_type": "stream",
     "text": [
      "c:\\Users\\naoki\\PythonVenv\\StudyVenv\\Lib\\site-packages\\skimage\\metrics\\simple_metrics.py:168: RuntimeWarning: divide by zero encountered in scalar divide\n",
      "  return 10 * np.log10((data_range**2) / err)\n"
     ]
    }
   ],
   "source": [
    "jpeg_img = np.array(Image.open(f'{DIR}/quality_35.jpeg'))\n",
    "bmp_img = np.array(Image.open(f'{DIR}/org_img.bmp'))\n",
    "print(psnr(org_img[0], jpeg_img, data_range=255))\n",
    "print(psnr(org_img[0], bmp_img, data_range=255))\n",
    "print(file_size[35])"
   ]
  },
  {
   "cell_type": "code",
   "execution_count": 81,
   "metadata": {},
   "outputs": [
    {
     "data": {
      "image/png": "[encoded data removed]",
      "text/plain": [
       "<Figure size 1000x500 with 2 Axes>"
      ]
     },
     "metadata": {},
     "output_type": "display_data"
    }
   ],
   "source": [
    "# 結果の表示\n",
    "fig, axes = plt.subplots(1, 2, figsize=(10, 5))\n",
    "axes[0].plot(file_size)\n",
    "axes[0].set_title('file size')\n",
    "\n",
    "axes[1].plot(R_max)\n",
    "axes[1].set_title('R_max')\n",
    "\n",
    "plt.show()"
   ]
  },
  {
   "cell_type": "code",
   "execution_count": 71,
   "metadata": {},
   "outputs": [
    {
     "name": "stdout",
     "output_type": "stream",
     "text": [
      "Image 0 の圧縮後のサイズ: 752 バイト\n",
      "Image 1 の圧縮後のサイズ: 780 バイト\n",
      "Image 2 の圧縮後のサイズ: 733 バイト\n",
      "Image 3 の圧縮後のサイズ: 714 バイト\n",
      "Image 4 の圧縮後のサイズ: 754 バイト\n",
      "Image 5 の圧縮後のサイズ: 755 バイト\n",
      "Image 6 の圧縮後のサイズ: 756 バイト\n",
      "Image 7 の圧縮後のサイズ: 774 バイト\n",
      "Image 8 の圧縮後のサイズ: 740 バイト\n",
      "Image 9 の圧縮後のサイズ: 732 バイト\n",
      "圧縮後のサイズの取得が完了しました。\n"
     ]
    }
   ],
   "source": [
    "import cv2\n",
    "import os\n",
    "import tempfile\n",
    "\n",
    "# CIFAR-10データセットをロード\n",
    "(x_train, y_train), (x_test, y_test) = tf.keras.datasets.cifar10.load_data()\n",
    "\n",
    "# JPEG圧縮の品質設定（0〜100の範囲、高いほど高品質）\n",
    "jpeg_quality = 20\n",
    "\n",
    "# 一時ファイルを使用してJPEGのデータサイズを取得\n",
    "def get_jpeg_size(image_array, quality):\n",
    "    # OpenCVを使ってJPEG圧縮を行う\n",
    "    encoded_img = cv2.imencode('.jpg', image_array, [int(cv2.IMWRITE_JPEG_QUALITY), quality])[1].tobytes()\n",
    "    \n",
    "    # 圧縮後のデータのバイト数を取得\n",
    "    compressed_size = len(encoded_img)\n",
    "    \n",
    "    return compressed_size\n",
    "\n",
    "# 最初の10個のトレーニングデータの画像を処理\n",
    "for i in range(10):\n",
    "    img_array = x_train[i]\n",
    "    compressed_size = get_jpeg_size(img_array, jpeg_quality)\n",
    "    print(f\"Image {i} の圧縮後のサイズ: {compressed_size} バイト\")\n",
    "\n",
    "print(\"圧縮後のサイズの取得が完了しました。\")\n"
   ]
  },
  {
   "cell_type": "code",
   "execution_count": null,
   "metadata": {},
   "outputs": [],
   "source": []
  }
 ],
 "metadata": {
  "kernelspec": {
   "display_name": "StudyVenv",
   "language": "python",
   "name": "python3"
  },
  "language_info": {
   "codemirror_mode": {
    "name": "ipython",
    "version": 3
   },
   "file_extension": ".py",
   "mimetype": "text/x-python",
   "name": "python",
   "nbconvert_exporter": "python",
   "pygments_lexer": "ipython3",
   "version": "3.11.7"
  }
 },
 "nbformat": 4,
 "nbformat_minor": 2
}
