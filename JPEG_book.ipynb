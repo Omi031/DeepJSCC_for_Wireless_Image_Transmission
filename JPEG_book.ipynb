{
 "cells": [
  {
   "cell_type": "code",
   "execution_count": 19,
   "metadata": {},
   "outputs": [],
   "source": [
    "import tensorflow as tf\n",
    "import numpy as np\n",
    "import matplotlib.pyplot as plt\n",
    "import cv2"
   ]
  },
  {
   "cell_type": "code",
   "execution_count": 2,
   "metadata": {},
   "outputs": [],
   "source": [
    "(_, _), (org_img, _) = tf.keras.datasets.cifar10.load_data()\n",
    "org_img = org_img[0]\n",
    "img_shape = org_img.shape\n",
    "com_img = np.zeros(img_shape)\n",
    "\n",
    "R = org_img[:,:,0]\n",
    "G = org_img[:,:,1]\n",
    "B = org_img[:,:,2]\n",
    "HorizontalSize, VertivalSize = img_shape[:2]"
   ]
  },
  {
   "cell_type": "code",
   "execution_count": 3,
   "metadata": {},
   "outputs": [
    {
     "name": "stderr",
     "output_type": "stream",
     "text": [
      "C:\\Users\\naoki\\AppData\\Local\\Temp\\ipykernel_14920\\1405615891.py:10: RuntimeWarning: overflow encountered in scalar negative\n",
      "  U[y][x] = -R[y][x]*0.1684 - G[y][x]*0.3316 + B[y][x]*0.5000\n"
     ]
    }
   ],
   "source": [
    "# RGB信号を、輝度Y成分と色差UV成分に変換する\n",
    "\n",
    "Y = np.zeros((VertivalSize, HorizontalSize))\n",
    "U = np.zeros((VertivalSize, HorizontalSize))\n",
    "V = np.zeros((VertivalSize, HorizontalSize))\n",
    "\n",
    "for y in range(VertivalSize):\n",
    "  for x in range(HorizontalSize):\n",
    "    Y[y][x] =  R[y][x]*0.2990 + G[y][x]*0.5870 + B[y][x]*0.1140\n",
    "    U[y][x] = -R[y][x]*0.1684 - G[y][x]*0.3316 + B[y][x]*0.5000\n",
    "    V[y][x] =  R[y][x]*0.5000 - G[y][x]*0.4187 - B[y][x]*0.0813"
   ]
  },
  {
   "cell_type": "code",
   "execution_count": 4,
   "metadata": {},
   "outputs": [],
   "source": [
    "# YUV成分から色差成分の間引きを行いMCUを構成する。また、輝度Y成分を[-128,+127]の範囲に変換する\n",
    "\n",
    "YUV = np.zeros((6, 8, 8))\n",
    "\n",
    "for y in range(8):\n",
    "  for x in range(8):\n",
    "    YUV[0][y][x] = Y[y][x] - 128\n",
    "    YUV[1][y][x] = Y[y][x+8] - 128\n",
    "    YUV[2][y][x] = Y[y+8][x] - 128\n",
    "    YUV[3][y][x] = Y[y+8][x+8] - 128\n",
    "    YUV[4][y][x] = U[y*2][x*2]\n",
    "    YUV[5][y][x] = V[y*2][x*2]"
   ]
  },
  {
   "cell_type": "code",
   "execution_count": 5,
   "metadata": {},
   "outputs": [],
   "source": [
    "# MCUと色差成分の間引き率4:1:1から輝度と色差成分YUVを作成する。また、輝度Y成分に128を加え、元の範囲に戻す。\n",
    "\n",
    "for y in range(8):\n",
    "  for x in range(8):\n",
    "    Y[y][x] = YUV[0][y][x] + 128\n",
    "    Y[y][x+8] = YUV[1][y][x] + 128\n",
    "    Y[y+8][x] = YUV[2][y][x] + 128\n",
    "    Y[y+8][x+8] = YUV[3][y][x] + 128\n",
    "    U[y*2][x*2] = YUV[4][y][x]\n",
    "    V[y*2][x*2] = YUV[5][y][x]"
   ]
  },
  {
   "cell_type": "code",
   "execution_count": 6,
   "metadata": {},
   "outputs": [],
   "source": [
    "# 輝度と色差YUV成分をRGBの色信号に変換する\n",
    "\n",
    "for y in range(VertivalSize):\n",
    "  for x in range(HorizontalSize):\n",
    "    R[y][x] = Y[y][x] + V[y][x]*1.4020\n",
    "    if R[y][x] < 0:\n",
    "      R[y][x] = 0\n",
    "    elif R[y][x] > 255:\n",
    "      R[y][x] = 255\n",
    "\n",
    "    G[y][x] = Y[y][x] - U[y][x]*0.3441 - V[y][x]*0.7139\n",
    "    if G[y][x] < 0:\n",
    "      G[y][x] = 0\n",
    "    elif G[y][x] > 255:\n",
    "      G[y][x] = 255\n",
    "\n",
    "    B[y][x] = Y[y][x] + U[y][x]*1.7718 - V[y][x]*0.0012\n",
    "    if B[y][x] < 0:\n",
    "      B[y][x] = 0\n",
    "    elif B[y][x] > 255:\n",
    "      B[y][x] = 255\n",
    "      \n",
    "\n"
   ]
  },
  {
   "cell_type": "code",
   "execution_count": 24,
   "metadata": {},
   "outputs": [],
   "source": [
    "# MCU内に存在する6個の8×8画素ブロックに対して2次元DCT変換を行う\n",
    "\n",
    "DCT = np.zeros((6,8,8))\n",
    "\n",
    "for v in range(8):\n",
    "  if v == 0:\n",
    "    cv = 1.0/np.sqrt(2.0)\n",
    "  else:\n",
    "    cv = 1.0\n",
    "  for u in range(8):\n",
    "    if u == 0:\n",
    "      cu = 1.0/np.sqrt(2.0)\n",
    "    else:\n",
    "      cu = 1.0\n",
    "    for k in range(6):\n",
    "      sum = 0\n",
    "      for y in range(8):\n",
    "        for x in range(8):\n",
    "          sum += YUV[k][y][x]*np.cos((2*x+1)*u*np.pi/16)*np.cos((2*y+1)*v*np.pi/16)\n",
    "      DCT[k][v][u] = sum*cu*cv/4\n",
    "    "
   ]
  },
  {
   "cell_type": "code",
   "execution_count": null,
   "metadata": {},
   "outputs": [],
   "source": [
    "# MCU内に存在する6個の8×8DCT変換係数ブロックに対して量子化を行う\n",
    "\n",
    "LuminanceQTable = [16, 11, 10, 16, 24, 40, 51, 61,\n",
    "                   12, 12, 14, 19, 26, 58, 60, 55,\n",
    "                   ]"
   ]
  },
  {
   "cell_type": "code",
   "execution_count": null,
   "metadata": {},
   "outputs": [],
   "source": []
  },
  {
   "cell_type": "code",
   "execution_count": null,
   "metadata": {},
   "outputs": [],
   "source": []
  },
  {
   "cell_type": "code",
   "execution_count": null,
   "metadata": {},
   "outputs": [],
   "source": []
  },
  {
   "cell_type": "code",
   "execution_count": null,
   "metadata": {},
   "outputs": [],
   "source": []
  },
  {
   "cell_type": "code",
   "execution_count": 22,
   "metadata": {},
   "outputs": [
    {
     "data": {
      "image/png": "[encoded data removed]",
      "text/plain": [
       "<Figure size 640x480 with 2 Axes>"
      ]
     },
     "metadata": {},
     "output_type": "display_data"
    }
   ],
   "source": [
    "com_img[:,:,0] = R\n",
    "com_img[:,:,1] = G\n",
    "com_img[:,:,2] = B\n",
    "\n",
    "com_img = com_img.astype('uint8')\n",
    "org_img = org_img.astype('uint8')\n",
    "\n",
    "\n",
    "plt.subplot(1, 2, 1)\n",
    "plt.imshow(org_img)\n",
    "plt.subplot(1, 2, 2)\n",
    "plt.imshow(com_img)\n",
    "plt.show()"
   ]
  },
  {
   "cell_type": "code",
   "execution_count": null,
   "metadata": {},
   "outputs": [],
   "source": []
  }
 ],
 "metadata": {
  "kernelspec": {
   "display_name": "StudyVenv",
   "language": "python",
   "name": "python3"
  },
  "language_info": {
   "codemirror_mode": {
    "name": "ipython",
    "version": 3
   },
   "file_extension": ".py",
   "mimetype": "text/x-python",
   "name": "python",
   "nbconvert_exporter": "python",
   "pygments_lexer": "ipython3",
   "version": "3.11.7"
  }
 },
 "nbformat": 4,
 "nbformat_minor": 2
}
